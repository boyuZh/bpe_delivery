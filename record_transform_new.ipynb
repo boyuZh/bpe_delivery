{
 "cells": [
  {
   "cell_type": "code",
   "execution_count": 24,
   "metadata": {},
   "outputs": [],
   "source": [
    "import pandas as pd\n",
    "import json\n",
    "import os\n",
    "import numpy as np"
   ]
  },
  {
   "cell_type": "code",
   "execution_count": 25,
   "metadata": {},
   "outputs": [],
   "source": [
    "# signed_time_key = \"Business Time\"\n",
    "# order_no_key = \"Business Order NO.\"\n",
    "# bill_title = \"Billing Title\"\n",
    "# receiver_key = \"Driver's name\"\n",
    "# fee_key = \"Excluding tax amount\"\n",
    "# post_code_key = \"Postal Code\"\n",
    "# weight_key = \"CW\"\n",
    "# verify_remark_key = \"Verify Remark\"\n"
   ]
  },
  {
   "cell_type": "code",
   "execution_count": 26,
   "metadata": {},
   "outputs": [],
   "source": [
    "# signed_time_key = '签收时间\\nDelivery Time'\n",
    "# order_no_key = '运单号\\nTracking Number'\n",
    "# receiver_key = '收派员\\nDriver'\n",
    "# weight_key = '商家上传重量\\nVendor Uploaded Weight'\n",
    "# post_code_key = '邮编\\nPostcode'\n",
    "# fee_key = '计费\\nCharges'\n",
    "# verify_remark_key = \"备注\""
   ]
  },
  {
   "cell_type": "code",
   "execution_count": 27,
   "metadata": {},
   "outputs": [],
   "source": [
    "signed_time_key = \"业务时间/Business Time\"\n",
    "order_no_key = \"业务单号/Business Order NO.\"\n",
    "bill_title = \"计费科目/Billing Title\"\n",
    "receiver_key = \"司机名称/Driver's name\"\n",
    "fee_key = \"不含税金额/Excluding tax amount\"\n",
    "post_code_key = \"派件省份/Delivery Province\"\n",
    "weight_key = \"重量/weight\"\n",
    "verify_remark_key = \"审批备注/Verify Remark\"\n",
    "city_key = \"派件城市/Delivery City\""
   ]
  },
  {
   "cell_type": "code",
   "execution_count": 28,
   "metadata": {},
   "outputs": [],
   "source": [
    "# folder_path = r\"C:\\Users\\alice\\Desktop\\最新数据\\iMile\\20250407-20250413-extra\"\n",
    "folder_path = r\"D:\\Projects\\transport\\raw_bill\\week16\"\n",
    "\n",
    "# folder_path = r\"C:\\Users\\alice\\Desktop\\202504\\0407-0413\\SYD\"\n",
    "\n",
    "# 判断folder_path是否是文件夹\n",
    "if os.path.isdir(folder_path):\n",
    "    file_paths = [os.path.join(folder_path, f) for f in os.listdir(folder_path) if f.endswith('.xlsx') and not f.startswith('~$')]\n",
    "\n",
    "    raw_sheets = []\n",
    "\n",
    "    for file_path in file_paths:\n",
    "        rs = pd.read_excel(file_path, sheet_name=\"sheet1\") # , usecols=[signed_time_key, order_no_key, bill_title, receiver_key, fee_key, post_code_key, weight_key, verify_remark_key]\n",
    "        raw_sheets.append(rs)\n",
    "\n",
    "    full_sheet = pd.concat(raw_sheets)\n",
    "else:\n",
    "    full_sheet = pd.read_excel(folder_path, sheet_name=\"sheet1\")\n",
    "\n"
   ]
  },
  {
   "cell_type": "code",
   "execution_count": 29,
   "metadata": {},
   "outputs": [],
   "source": [
    "full_sheet = full_sheet[full_sheet[bill_title]!='丢件/损失赔偿']"
   ]
  },
  {
   "cell_type": "code",
   "execution_count": 30,
   "metadata": {},
   "outputs": [
    {
     "name": "stdout",
     "output_type": "stream",
     "text": [
      "本周总单数为 68076\n"
     ]
    }
   ],
   "source": [
    "print(\"本周总单数为\", full_sheet[order_no_key].nunique())\n",
    "# full_sheet[order_no_key].nunique()"
   ]
  },
  {
   "cell_type": "code",
   "execution_count": 31,
   "metadata": {},
   "outputs": [],
   "source": [
    "origin_sheet = full_sheet[full_sheet[verify_remark_key]!='adjustBill']\n",
    "adjust_sheet = full_sheet[full_sheet[verify_remark_key]=='adjustBill']"
   ]
  },
  {
   "cell_type": "code",
   "execution_count": 32,
   "metadata": {},
   "outputs": [
    {
     "data": {
      "text/plain": [
       "(64754, 90)"
      ]
     },
     "execution_count": 32,
     "metadata": {},
     "output_type": "execute_result"
    }
   ],
   "source": [
    "origin_sheet.shape"
   ]
  },
  {
   "cell_type": "code",
   "execution_count": 33,
   "metadata": {},
   "outputs": [
    {
     "data": {
      "text/plain": [
       "(33656, 90)"
      ]
     },
     "execution_count": 33,
     "metadata": {},
     "output_type": "execute_result"
    }
   ],
   "source": [
    "adjust_sheet.shape"
   ]
  },
  {
   "cell_type": "code",
   "execution_count": 34,
   "metadata": {},
   "outputs": [],
   "source": [
    "# find the records where order_no_key that in adjust_sheet but not in origin_sheet\n",
    "extra_drivers = adjust_sheet[~adjust_sheet[order_no_key].isin(origin_sheet[order_no_key])]"
   ]
  },
  {
   "cell_type": "code",
   "execution_count": 35,
   "metadata": {},
   "outputs": [],
   "source": [
    "origin_sheet = pd.concat([origin_sheet, extra_drivers])"
   ]
  },
  {
   "cell_type": "code",
   "execution_count": 36,
   "metadata": {},
   "outputs": [],
   "source": [
    "adjust_sheet = adjust_sheet[~adjust_sheet[order_no_key].isin(extra_drivers[order_no_key])]"
   ]
  },
  {
   "cell_type": "code",
   "execution_count": 37,
   "metadata": {},
   "outputs": [
    {
     "data": {
      "text/plain": [
       "30321"
      ]
     },
     "execution_count": 37,
     "metadata": {},
     "output_type": "execute_result"
    }
   ],
   "source": [
    "adjust_sheet[order_no_key].nunique()"
   ]
  },
  {
   "cell_type": "code",
   "execution_count": 38,
   "metadata": {},
   "outputs": [],
   "source": [
    "merge_sheet = pd.merge(origin_sheet, adjust_sheet, how='left', left_on=[order_no_key], right_on=[order_no_key], suffixes=('', '_adjust'))"
   ]
  },
  {
   "cell_type": "code",
   "execution_count": 39,
   "metadata": {},
   "outputs": [],
   "source": [
    "merge_sheet.fillna(0, inplace=True)"
   ]
  },
  {
   "cell_type": "code",
   "execution_count": 40,
   "metadata": {},
   "outputs": [],
   "source": [
    "merge_sheet['fee_after_adjust'] = merge_sheet[fee_key] + merge_sheet[fee_key + '_adjust']\n"
   ]
  },
  {
   "cell_type": "code",
   "execution_count": 41,
   "metadata": {},
   "outputs": [
    {
     "name": "stdout",
     "output_type": "stream",
     "text": [
      "fee_after_adjust\n",
      " 2.2    31254\n",
      " 2.2    23983\n",
      " 2.0     5183\n",
      " 2.1     3172\n",
      " 2.3     2213\n",
      " 3.5     1306\n",
      " 5.0      395\n",
      " 4.0      365\n",
      " 8.0      111\n",
      " 2.5       95\n",
      "-2.4        4\n",
      "-2.2        3\n",
      "-2.5        1\n",
      "-2.0        1\n",
      "-2.6        1\n",
      "-2.1        1\n",
      " 0.3        1\n",
      "Name: count, dtype: int64\n",
      "排除丢包前总价 152744.9\n"
     ]
    }
   ],
   "source": [
    "vc = merge_sheet['fee_after_adjust'].value_counts()\n",
    "total = (vc.index * vc).sum()\n",
    "print(vc)\n",
    "print(\"排除丢包前总价\", total)"
   ]
  },
  {
   "cell_type": "code",
   "execution_count": 42,
   "metadata": {},
   "outputs": [],
   "source": [
    "merge_sheet['fee_after_adjust'] = merge_sheet['fee_after_adjust'].apply(lambda x: round(x, 2))"
   ]
  },
  {
   "cell_type": "code",
   "execution_count": 43,
   "metadata": {},
   "outputs": [],
   "source": [
    "fee_key = 'fee_after_adjust'"
   ]
  },
  {
   "cell_type": "markdown",
   "metadata": {},
   "source": [
    "### 处理撤销订单"
   ]
  },
  {
   "cell_type": "code",
   "execution_count": 44,
   "metadata": {},
   "outputs": [],
   "source": [
    "revoke_sheet = merge_sheet[(merge_sheet[fee_key]<0) & (merge_sheet[verify_remark_key]!='adjustBill')]\n"
   ]
  },
  {
   "cell_type": "code",
   "execution_count": 45,
   "metadata": {},
   "outputs": [],
   "source": [
    "for idx, row in revoke_sheet.iterrows():\n",
    "    revoke_order_no = row[order_no_key]\n",
    "    revoke_receiver = row[receiver_key]\n",
    "    # 寻找mergesheet中order_no_key为revoke_order_no, 并且receiver_key与revoke_receiver相同的行\n",
    "    revoke_rows = merge_sheet[(merge_sheet[order_no_key] == revoke_order_no) & (merge_sheet[receiver_key] == revoke_receiver)]\n",
    "    # 将找到结果中fee_key为负数的行去掉，也将fee_key为正数，且绝对值和去掉的负数相同的行去掉等量的行数\n",
    "    # 拆分正负fee\n",
    "    negative_fees = revoke_rows[revoke_rows[fee_key] < 0]\n",
    "    positive_fees = revoke_rows[revoke_rows[fee_key] > 0].copy()\n",
    "\n",
    "    # 标记已删除的index\n",
    "    indexes_to_drop = set(negative_fees.index)\n",
    "\n",
    "    for neg_idx, neg_row in negative_fees.iterrows():\n",
    "        abs_val = abs(neg_row[fee_key])\n",
    "        # 从正fee中找匹配的金额\n",
    "        matching_rows = positive_fees[positive_fees[fee_key] == abs_val]\n",
    "        if not matching_rows.empty:\n",
    "            # 删除第一个匹配的正数行\n",
    "            match_idx = matching_rows.index[0]\n",
    "            indexes_to_drop.add(match_idx)\n",
    "            positive_fees.drop(index=match_idx, inplace=True)\n",
    "\n",
    "    # 从 merge_sheet 中删除这些行\n",
    "    merge_sheet.drop(index=indexes_to_drop, inplace=True)\n"
   ]
  },
  {
   "cell_type": "code",
   "execution_count": 46,
   "metadata": {},
   "outputs": [],
   "source": [
    "\n",
    "# signed_time_key = \"业务时间/Business Time\"\n",
    "# order_no_key = \"业务单号/Business Order NO.\"\n",
    "# bill_title = \"计费科目/Billing Title\"\n",
    "# receiver_key = \"司机名称/Driver's name\"\n",
    "# fee_key = \"fee_after_adjust\"\n",
    "# post_code_key = \"派件省份/Delivery Province\"\n",
    "# weight_key = \"重量/weight\"\n",
    "# verify_remark_key = \"审批备注/Verify Remark\"\n",
    "# city_key = \"派件城市/Delivery City\"\n",
    "def transform_data(input_df, output_file):\n",
    "    # 定义列名映射\n",
    "    column_mapping = {\n",
    "        signed_time_key: \"签收时间\",\n",
    "        order_no_key: \"运单号\",\n",
    "        city_key: \"收件城市\",\n",
    "        fee_key: \"计费\",\n",
    "        receiver_key: \"收派员driver\",\n",
    "        weight_key: \"重量\"\n",
    "    }\n",
    "    \n",
    "    # 定义州名和对应的sheet名映射\n",
    "    state_mapping = {\n",
    "        \"New South Wales\": \"SYD\",\n",
    "        \"South Australia\": \"ADL\",\n",
    "        \"Queensland\": \"BNE\"\n",
    "    }\n",
    "\n",
    "    input_df['周数'] = pd.to_datetime(input_df[signed_time_key]).dt.isocalendar().week.astype('int32')\n",
    "    week = input_df['周数'].min()\n",
    "    \n",
    "    output_file = output_file.format(week)\n",
    "    # 创建Excel写入器\n",
    "    with pd.ExcelWriter(output_file, engine='openpyxl') as writer:\n",
    "        # 对每个州进行处理\n",
    "        for state_name, sheet_name in state_mapping.items():\n",
    "            # 筛选对应州的数据\n",
    "            state_df = input_df[input_df[post_code_key] == state_name].copy()\n",
    "            \n",
    "            # 重命名列\n",
    "            state_df = state_df.rename(columns=column_mapping)\n",
    "            \n",
    "            # 选择需要的列\n",
    "            required_columns = [\n",
    "                \"签收时间\",\n",
    "                \"运单号\",\n",
    "                \"收件城市\",\n",
    "                \"计费\",\n",
    "                \"收派员driver\",\n",
    "                \"重量\"\n",
    "                # \"派件省份\"\n",
    "            ]\n",
    "            \n",
    "            # 确保所有需要的列都存在\n",
    "            state_df = state_df[required_columns]\n",
    "            \n",
    "            # 写入对应的sheet\n",
    "            state_df.to_excel(writer, sheet_name=sheet_name, index=False)\n",
    "\n",
    "transform_data(merge_sheet, \"output/BPE-w{}.xlsx\")"
   ]
  },
  {
   "cell_type": "code",
   "execution_count": 117,
   "metadata": {},
   "outputs": [],
   "source": [
    "# name_sheet = pd.read_csv('data/name_sheet2.csv')\n",
    "city_name = input(\"请输入城市名称 (例如: SYD): \").upper()\n",
    "if city_name.upper() == \"SYD\":\n",
    "    name_sheet_path = 'data/name_sheet_syd.csv'\n",
    "    post_prefix = \"2\"\n",
    "    state_name = \"New South Wales\"\n",
    "elif city_name.upper() == \"ADL\":\n",
    "    name_sheet_path = 'data/name_sheet_ade.csv'\n",
    "    post_prefix = \"5\"\n",
    "    state_name = \"South Australia\"\n",
    "elif city_name.upper() == \"BNE\":\n",
    "    name_sheet_path = 'data/name_sheet_bne.csv'\n",
    "    post_prefix = \"4\"\n",
    "    state_name = \"Queensland\"\n",
    "else:\n",
    "    print(f\"未找到城市 {city_name} 对应的name_sheet文件，将使用默认文件\")\n",
    "    name_sheet_path = 'data/name_sheet2.csv'\n",
    "\n"
   ]
  },
  {
   "cell_type": "code",
   "execution_count": 118,
   "metadata": {},
   "outputs": [],
   "source": [
    "name_sheet = pd.read_csv(name_sheet_path)\n",
    "merge_sheet[post_code_key] = merge_sheet[post_code_key].astype(str)\n",
    "\n",
    "# raw_sheet = merge_sheet[merge_sheet[post_code_key].str.startswith(post_prefix)]\n",
    "raw_sheet = merge_sheet[merge_sheet[post_code_key]==state_name]\n"
   ]
  },
  {
   "cell_type": "code",
   "execution_count": 119,
   "metadata": {},
   "outputs": [],
   "source": [
    "# penalty_sheet = city_sheet[city_sheet[verify_remark_key] == \"adjustBill\"]\n",
    "# raw_sheet = city_sheet[city_sheet[verify_remark_key] != \"adjustBill\"]"
   ]
  },
  {
   "cell_type": "code",
   "execution_count": 120,
   "metadata": {},
   "outputs": [
    {
     "data": {
      "text/plain": [
       "(28685, 180)"
      ]
     },
     "execution_count": 120,
     "metadata": {},
     "output_type": "execute_result"
    }
   ],
   "source": [
    "raw_sheet.shape"
   ]
  },
  {
   "cell_type": "code",
   "execution_count": 121,
   "metadata": {},
   "outputs": [],
   "source": [
    "# 时间格式为2025-04-13 16:05:59，需要提取日期\n",
    "\n",
    "dates = raw_sheet[signed_time_key].apply(lambda x: str(x)[:10]).unique()\n",
    "dates = np.sort(dates)\n",
    "dates = [str(date)[:10] for date in dates]\n",
    "folder_name = \"_\".join([dates[0], dates[-1]])\n",
    "project_path = os.path.join(\"output\", city_name, folder_name)\n",
    "project_cache_path = os.path.join(project_path, \"cache\")\n",
    "os.makedirs(project_path, exist_ok=True)\n",
    "os.makedirs(project_cache_path, exist_ok=True)"
   ]
  },
  {
   "cell_type": "code",
   "execution_count": 150,
   "metadata": {},
   "outputs": [],
   "source": [
    "table_columns = [signed_time_key, order_no_key, bill_title, receiver_key, post_code_key, weight_key, fee_key]"
   ]
  },
  {
   "cell_type": "code",
   "execution_count": 151,
   "metadata": {},
   "outputs": [],
   "source": [
    "raw_sheet[table_columns].to_csv(f'{project_path}/raw_content.csv')"
   ]
  },
  {
   "cell_type": "markdown",
   "metadata": {},
   "source": [
    "### 获取当周汇总数据"
   ]
  },
  {
   "cell_type": "code",
   "execution_count": 123,
   "metadata": {},
   "outputs": [],
   "source": [
    "fees = raw_sheet[fee_key].unique()\n",
    "fees.sort()"
   ]
  },
  {
   "cell_type": "code",
   "execution_count": 124,
   "metadata": {},
   "outputs": [],
   "source": [
    "raw_sheet = raw_sheet[raw_sheet[fee_key] > 0]"
   ]
  },
  {
   "cell_type": "code",
   "execution_count": 125,
   "metadata": {},
   "outputs": [],
   "source": [
    "summary_sheet = raw_sheet[fee_key].value_counts().sort_index()"
   ]
  },
  {
   "cell_type": "code",
   "execution_count": 126,
   "metadata": {},
   "outputs": [],
   "source": [
    "# summary_sheet = summary_sheet[summary_sheet.index > 0]\n",
    "\n",
    "summary_sheet.name = '数量'\n",
    "\n",
    "new_data = pd.Series([summary_sheet.sum()], index=['Total'], name='数量')  # 新行数据\n",
    "summary_sheet = pd.concat([summary_sheet, new_data])  # 使用 pd.concat 添加新行\n",
    "summary_sheet.index.name = '单价'"
   ]
  },
  {
   "cell_type": "code",
   "execution_count": 127,
   "metadata": {},
   "outputs": [
    {
     "data": {
      "text/plain": [
       "单价\n",
       "2.2      26919\n",
       "3.5       1556\n",
       "5.0        143\n",
       "8.0         67\n",
       "Total    28685\n",
       "Name: 数量, dtype: int64"
      ]
     },
     "execution_count": 127,
     "metadata": {},
     "output_type": "execute_result"
    }
   ],
   "source": [
    "summary_sheet.head(20)"
   ]
  },
  {
   "cell_type": "code",
   "execution_count": 128,
   "metadata": {},
   "outputs": [],
   "source": [
    "summary_sheet.to_csv(f'{project_path}/week_summary.csv')"
   ]
  },
  {
   "cell_type": "markdown",
   "metadata": {},
   "source": [
    "### 获取每位派送员派送详情"
   ]
  },
  {
   "cell_type": "code",
   "execution_count": 129,
   "metadata": {},
   "outputs": [],
   "source": [
    "per_person_sum = raw_sheet[receiver_key].value_counts()"
   ]
  },
  {
   "cell_type": "code",
   "execution_count": 130,
   "metadata": {},
   "outputs": [],
   "source": [
    "per_person_sum.name = '总数'"
   ]
  },
  {
   "cell_type": "code",
   "execution_count": 131,
   "metadata": {},
   "outputs": [],
   "source": [
    "per_person_sum = pd.DataFrame(per_person_sum)\n",
    "per_person_sum = per_person_sum.reset_index()"
   ]
  },
  {
   "cell_type": "code",
   "execution_count": 132,
   "metadata": {},
   "outputs": [],
   "source": [
    "import pandas as pd\n",
    "import re\n",
    "\n",
    "# 定义函数，提取公司简称、账号 ID 和账号名称\n",
    "def extract_account_info(account_str):\n",
    "    match = re.match(r\"^([A-Z]+(?:-[A-Z]+)*)-(\\w+)-(.+)$\", account_str)\n",
    "    if match:\n",
    "        company_short = match.group(1)\n",
    "        account_id = match.group(2)\n",
    "        account_name = match.group(3)\n",
    "        return company_short, account_id, account_name\n",
    "    return None, None, account_str  # 仅有姓名时，填充 None\n"
   ]
  },
  {
   "cell_type": "code",
   "execution_count": 133,
   "metadata": {},
   "outputs": [],
   "source": [
    "# per_person_sum['name_id'] = [\"-\".join(x.split(\"-\")[:2]) for x in per_person_sum.index.tolist()]\n",
    "per_person_sum[['company_short', 'account_id', 'account_name']] = per_person_sum[receiver_key].apply(lambda x: pd.Series(extract_account_info(x)))"
   ]
  },
  {
   "cell_type": "code",
   "execution_count": 134,
   "metadata": {},
   "outputs": [],
   "source": [
    "# 找到新增的名字\n",
    "name_sheet[['company_short', 'account_id', 'account_name']] = name_sheet['account'].apply(lambda x: pd.Series(extract_account_info(x)))\n",
    "per_person_sum[\"account_id_name\"] = per_person_sum.apply(lambda row: \n",
    "    f\"{row['account_id']}-{row['account_name']}\" if row[\"account_id\"] else row[\"account_name\"], axis=1)\n",
    "per_person_sum['account_name'] = per_person_sum['account_name'].apply(lambda x: x.strip())\n",
    "\n",
    "name_sheet[\"account_id_name\"] = name_sheet.apply(lambda row: \n",
    "    f\"{row['account_id']}-{row['account_name']}\" if row[\"account_id\"] else row[\"account_name\"], axis=1)\n",
    "\n",
    "name_sheet['account_name'] = name_sheet['account_name'].apply(lambda x: x.strip())\n",
    "\n",
    "\n",
    "dedup_key = 'account_name'\n",
    "\n",
    "duplicate_mask = name_sheet.duplicated(subset=[dedup_key], keep=False)\n",
    "if duplicate_mask.any():\n",
    "    # 获取所有重复的记录\n",
    "    duplicates = name_sheet[duplicate_mask].copy()\n",
    "    \n",
    "    # 按account_id_name分组，对每组进行处理\n",
    "    for account_id_name, group in duplicates.groupby(dedup_key):\n",
    "        if len(group) > 1:  # 如果有重复记录\n",
    "            # 检查是否有BPE记录\n",
    "            bpe_record = group[group['company_short'] == 'BPE']\n",
    "            if not bpe_record.empty:\n",
    "                # 如果有BPE记录，删除其他记录\n",
    "                name_sheet = name_sheet[~((name_sheet[dedup_key] == account_id_name) & \n",
    "                                        (name_sheet['company_short'] != 'BPE'))]\n",
    "            else:\n",
    "                # 如果没有BPE记录，保留第一条记录\n",
    "                name_sheet = name_sheet[~((name_sheet[dedup_key] == account_id_name) & \n",
    "                                        (name_sheet.index != group.index[0]))]\n",
    "\n",
    "\n",
    "new_names_id = set(per_person_sum[dedup_key].tolist()) - set(name_sheet[dedup_key].tolist())\n",
    "new_names_id = list(new_names_id)\n",
    "\n"
   ]
  },
  {
   "cell_type": "code",
   "execution_count": 135,
   "metadata": {},
   "outputs": [],
   "source": [
    "# 添加到name_sheet\n",
    "if new_names_id:  # only proceed if there are new names\n",
    "    new_names = []\n",
    "    for name_id in new_names_id:\n",
    "        # Get the full name from per_person_sum DataFrame\n",
    "        new_person_record = per_person_sum[per_person_sum[dedup_key]==name_id]\n",
    "        company_short, account_id, account_name = extract_account_info(new_person_record[receiver_key].values[0])\n",
    "        new_names.append({\n",
    "            'account': new_person_record[receiver_key].values[0],\n",
    "            'company_short': company_short,\n",
    "            'account_id': account_id,\n",
    "            'account_name': account_name\n",
    "        })\n",
    "    \n",
    "    new_name_sheet = pd.DataFrame(new_names)\n",
    "    name_sheet = pd.concat([name_sheet, new_name_sheet], ignore_index=True)"
   ]
  },
  {
   "cell_type": "code",
   "execution_count": 136,
   "metadata": {},
   "outputs": [],
   "source": [
    "name_sheet['account'].drop_duplicates().to_csv(name_sheet_path, index=False)"
   ]
  },
  {
   "cell_type": "code",
   "execution_count": 137,
   "metadata": {},
   "outputs": [
    {
     "data": {
      "text/html": [
       "<div>\n",
       "<style scoped>\n",
       "    .dataframe tbody tr th:only-of-type {\n",
       "        vertical-align: middle;\n",
       "    }\n",
       "\n",
       "    .dataframe tbody tr th {\n",
       "        vertical-align: top;\n",
       "    }\n",
       "\n",
       "    .dataframe thead th {\n",
       "        text-align: right;\n",
       "    }\n",
       "</style>\n",
       "<table border=\"1\" class=\"dataframe\">\n",
       "  <thead>\n",
       "    <tr style=\"text-align: right;\">\n",
       "      <th></th>\n",
       "      <th>account</th>\n",
       "      <th>company_short</th>\n",
       "      <th>account_id</th>\n",
       "      <th>account_name</th>\n",
       "      <th>account_id_name</th>\n",
       "    </tr>\n",
       "  </thead>\n",
       "  <tbody>\n",
       "    <tr>\n",
       "      <th>0</th>\n",
       "      <td>BNE-BPE-5544-Dharmik Sureshbhai PATEL</td>\n",
       "      <td>BNE-BPE</td>\n",
       "      <td>5544</td>\n",
       "      <td>Dharmik Sureshbhai PATEL</td>\n",
       "      <td>5544-Dharmik Sureshbhai PATEL</td>\n",
       "    </tr>\n",
       "    <tr>\n",
       "      <th>1</th>\n",
       "      <td>BNE-BPE-5500-Dipak BUDHATHOKI</td>\n",
       "      <td>BNE-BPE</td>\n",
       "      <td>5500</td>\n",
       "      <td>Dipak BUDHATHOKI</td>\n",
       "      <td>5500-Dipak BUDHATHOKI</td>\n",
       "    </tr>\n",
       "    <tr>\n",
       "      <th>2</th>\n",
       "      <td>BNE-BPE-5501-BILAL MUHAMMAD</td>\n",
       "      <td>BNE-BPE</td>\n",
       "      <td>5501</td>\n",
       "      <td>BILAL MUHAMMAD</td>\n",
       "      <td>5501-BILAL MUHAMMAD</td>\n",
       "    </tr>\n",
       "    <tr>\n",
       "      <th>3</th>\n",
       "      <td>BNE-BPE-5502-Bikalpa DAWADI</td>\n",
       "      <td>BNE-BPE</td>\n",
       "      <td>5502</td>\n",
       "      <td>Bikalpa DAWADI</td>\n",
       "      <td>5502-Bikalpa DAWADI</td>\n",
       "    </tr>\n",
       "    <tr>\n",
       "      <th>4</th>\n",
       "      <td>BNE-BPE-5504-Chu Feng LEE</td>\n",
       "      <td>BNE-BPE</td>\n",
       "      <td>5504</td>\n",
       "      <td>Chu Feng LEE</td>\n",
       "      <td>5504-Chu Feng LEE</td>\n",
       "    </tr>\n",
       "  </tbody>\n",
       "</table>\n",
       "</div>"
      ],
      "text/plain": [
       "                                 account company_short account_id  \\\n",
       "0  BNE-BPE-5544-Dharmik Sureshbhai PATEL       BNE-BPE       5544   \n",
       "1          BNE-BPE-5500-Dipak BUDHATHOKI       BNE-BPE       5500   \n",
       "2            BNE-BPE-5501-BILAL MUHAMMAD       BNE-BPE       5501   \n",
       "3            BNE-BPE-5502-Bikalpa DAWADI       BNE-BPE       5502   \n",
       "4              BNE-BPE-5504-Chu Feng LEE       BNE-BPE       5504   \n",
       "\n",
       "               account_name                account_id_name  \n",
       "0  Dharmik Sureshbhai PATEL  5544-Dharmik Sureshbhai PATEL  \n",
       "1          Dipak BUDHATHOKI          5500-Dipak BUDHATHOKI  \n",
       "2            BILAL MUHAMMAD            5501-BILAL MUHAMMAD  \n",
       "3            Bikalpa DAWADI            5502-Bikalpa DAWADI  \n",
       "4              Chu Feng LEE              5504-Chu Feng LEE  "
      ]
     },
     "execution_count": 137,
     "metadata": {},
     "output_type": "execute_result"
    }
   ],
   "source": [
    "name_sheet.head()"
   ]
  },
  {
   "cell_type": "code",
   "execution_count": 138,
   "metadata": {},
   "outputs": [
    {
     "data": {
      "text/plain": [
       "np.int64(28685)"
      ]
     },
     "execution_count": 138,
     "metadata": {},
     "output_type": "execute_result"
    }
   ],
   "source": [
    "per_person_sum['总数'].sum()"
   ]
  },
  {
   "cell_type": "code",
   "execution_count": 139,
   "metadata": {},
   "outputs": [],
   "source": [
    "name_join_sheet = pd.merge(name_sheet, per_person_sum, left_on=dedup_key, right_on=dedup_key, how='left', suffixes=('_obs', ''), sort=False)\n",
    "name_join_sheet.fillna(0, inplace=True)\n",
    "name_join_sheet['总数'] = name_join_sheet['总数'].astype(int) # 将总数列转换为整数\n",
    "# name_sheet = name_sheet.to_json(orient='records')\n",
    "# name_sheet = json.loads(name_sheet)"
   ]
  },
  {
   "cell_type": "code",
   "execution_count": 140,
   "metadata": {},
   "outputs": [
    {
     "name": "stdout",
     "output_type": "stream",
     "text": [
      "总数匹配: 28685 == 28685\n"
     ]
    }
   ],
   "source": [
    "if name_join_sheet['总数'].sum() != summary_sheet.sum()//2:\n",
    "    print(f\"总数不匹配: {name_join_sheet['总数'].sum()} != {summary_sheet.sum()//2}\")\n",
    "    raise ValueError(f\"总数不匹配: {name_join_sheet['总数'].sum()} != {summary_sheet.sum()//2}\")\n",
    "else:\n",
    "    print(f\"总数匹配: {name_join_sheet['总数'].sum()} == {summary_sheet.sum()//2}\")\n"
   ]
  },
  {
   "cell_type": "code",
   "execution_count": 141,
   "metadata": {},
   "outputs": [],
   "source": [
    "# print(counts.to_json(force_ascii=False))\n",
    "# signed_time_key = None\n",
    "# receiver_key = None\n",
    "# fee_key = None\n",
    "raw_sheet[signed_time_key] = raw_sheet[signed_time_key].apply(lambda x: str(x)[:10])\n",
    "counts = raw_sheet.groupby([receiver_key, signed_time_key, fee_key]).size().reset_index(name='记录数')"
   ]
  },
  {
   "cell_type": "code",
   "execution_count": 142,
   "metadata": {},
   "outputs": [
    {
     "name": "stderr",
     "output_type": "stream",
     "text": [
      "C:\\Users\\alice\\AppData\\Local\\Temp\\ipykernel_22660\\1415180165.py:6: DeprecationWarning: DataFrameGroupBy.apply operated on the grouping columns. This behavior is deprecated, and in a future version of pandas the grouping columns will be excluded from the operation. Either pass `include_groups=False` to exclude the groupings or explicitly select the grouping columns after groupby to silence this warning.\n",
      "  .apply(lambda y: y.set_index(fee_key)['记录数'].to_dict())  # 将计费和对应数量转为字典\n",
      "C:\\Users\\alice\\AppData\\Local\\Temp\\ipykernel_22660\\1415180165.py:6: DeprecationWarning: DataFrameGroupBy.apply operated on the grouping columns. This behavior is deprecated, and in a future version of pandas the grouping columns will be excluded from the operation. Either pass `include_groups=False` to exclude the groupings or explicitly select the grouping columns after groupby to silence this warning.\n",
      "  .apply(lambda y: y.set_index(fee_key)['记录数'].to_dict())  # 将计费和对应数量转为字典\n",
      "C:\\Users\\alice\\AppData\\Local\\Temp\\ipykernel_22660\\1415180165.py:6: DeprecationWarning: DataFrameGroupBy.apply operated on the grouping columns. This behavior is deprecated, and in a future version of pandas the grouping columns will be excluded from the operation. Either pass `include_groups=False` to exclude the groupings or explicitly select the grouping columns after groupby to silence this warning.\n",
      "  .apply(lambda y: y.set_index(fee_key)['记录数'].to_dict())  # 将计费和对应数量转为字典\n",
      "C:\\Users\\alice\\AppData\\Local\\Temp\\ipykernel_22660\\1415180165.py:6: DeprecationWarning: DataFrameGroupBy.apply operated on the grouping columns. This behavior is deprecated, and in a future version of pandas the grouping columns will be excluded from the operation. Either pass `include_groups=False` to exclude the groupings or explicitly select the grouping columns after groupby to silence this warning.\n",
      "  .apply(lambda y: y.set_index(fee_key)['记录数'].to_dict())  # 将计费和对应数量转为字典\n",
      "C:\\Users\\alice\\AppData\\Local\\Temp\\ipykernel_22660\\1415180165.py:6: DeprecationWarning: DataFrameGroupBy.apply operated on the grouping columns. This behavior is deprecated, and in a future version of pandas the grouping columns will be excluded from the operation. Either pass `include_groups=False` to exclude the groupings or explicitly select the grouping columns after groupby to silence this warning.\n",
      "  .apply(lambda y: y.set_index(fee_key)['记录数'].to_dict())  # 将计费和对应数量转为字典\n",
      "C:\\Users\\alice\\AppData\\Local\\Temp\\ipykernel_22660\\1415180165.py:6: DeprecationWarning: DataFrameGroupBy.apply operated on the grouping columns. This behavior is deprecated, and in a future version of pandas the grouping columns will be excluded from the operation. Either pass `include_groups=False` to exclude the groupings or explicitly select the grouping columns after groupby to silence this warning.\n",
      "  .apply(lambda y: y.set_index(fee_key)['记录数'].to_dict())  # 将计费和对应数量转为字典\n",
      "C:\\Users\\alice\\AppData\\Local\\Temp\\ipykernel_22660\\1415180165.py:6: DeprecationWarning: DataFrameGroupBy.apply operated on the grouping columns. This behavior is deprecated, and in a future version of pandas the grouping columns will be excluded from the operation. Either pass `include_groups=False` to exclude the groupings or explicitly select the grouping columns after groupby to silence this warning.\n",
      "  .apply(lambda y: y.set_index(fee_key)['记录数'].to_dict())  # 将计费和对应数量转为字典\n",
      "C:\\Users\\alice\\AppData\\Local\\Temp\\ipykernel_22660\\1415180165.py:6: DeprecationWarning: DataFrameGroupBy.apply operated on the grouping columns. This behavior is deprecated, and in a future version of pandas the grouping columns will be excluded from the operation. Either pass `include_groups=False` to exclude the groupings or explicitly select the grouping columns after groupby to silence this warning.\n",
      "  .apply(lambda y: y.set_index(fee_key)['记录数'].to_dict())  # 将计费和对应数量转为字典\n",
      "C:\\Users\\alice\\AppData\\Local\\Temp\\ipykernel_22660\\1415180165.py:6: DeprecationWarning: DataFrameGroupBy.apply operated on the grouping columns. This behavior is deprecated, and in a future version of pandas the grouping columns will be excluded from the operation. Either pass `include_groups=False` to exclude the groupings or explicitly select the grouping columns after groupby to silence this warning.\n",
      "  .apply(lambda y: y.set_index(fee_key)['记录数'].to_dict())  # 将计费和对应数量转为字典\n",
      "C:\\Users\\alice\\AppData\\Local\\Temp\\ipykernel_22660\\1415180165.py:6: DeprecationWarning: DataFrameGroupBy.apply operated on the grouping columns. This behavior is deprecated, and in a future version of pandas the grouping columns will be excluded from the operation. Either pass `include_groups=False` to exclude the groupings or explicitly select the grouping columns after groupby to silence this warning.\n",
      "  .apply(lambda y: y.set_index(fee_key)['记录数'].to_dict())  # 将计费和对应数量转为字典\n",
      "C:\\Users\\alice\\AppData\\Local\\Temp\\ipykernel_22660\\1415180165.py:6: DeprecationWarning: DataFrameGroupBy.apply operated on the grouping columns. This behavior is deprecated, and in a future version of pandas the grouping columns will be excluded from the operation. Either pass `include_groups=False` to exclude the groupings or explicitly select the grouping columns after groupby to silence this warning.\n",
      "  .apply(lambda y: y.set_index(fee_key)['记录数'].to_dict())  # 将计费和对应数量转为字典\n",
      "C:\\Users\\alice\\AppData\\Local\\Temp\\ipykernel_22660\\1415180165.py:6: DeprecationWarning: DataFrameGroupBy.apply operated on the grouping columns. This behavior is deprecated, and in a future version of pandas the grouping columns will be excluded from the operation. Either pass `include_groups=False` to exclude the groupings or explicitly select the grouping columns after groupby to silence this warning.\n",
      "  .apply(lambda y: y.set_index(fee_key)['记录数'].to_dict())  # 将计费和对应数量转为字典\n",
      "C:\\Users\\alice\\AppData\\Local\\Temp\\ipykernel_22660\\1415180165.py:6: DeprecationWarning: DataFrameGroupBy.apply operated on the grouping columns. This behavior is deprecated, and in a future version of pandas the grouping columns will be excluded from the operation. Either pass `include_groups=False` to exclude the groupings or explicitly select the grouping columns after groupby to silence this warning.\n",
      "  .apply(lambda y: y.set_index(fee_key)['记录数'].to_dict())  # 将计费和对应数量转为字典\n",
      "C:\\Users\\alice\\AppData\\Local\\Temp\\ipykernel_22660\\1415180165.py:6: DeprecationWarning: DataFrameGroupBy.apply operated on the grouping columns. This behavior is deprecated, and in a future version of pandas the grouping columns will be excluded from the operation. Either pass `include_groups=False` to exclude the groupings or explicitly select the grouping columns after groupby to silence this warning.\n",
      "  .apply(lambda y: y.set_index(fee_key)['记录数'].to_dict())  # 将计费和对应数量转为字典\n",
      "C:\\Users\\alice\\AppData\\Local\\Temp\\ipykernel_22660\\1415180165.py:6: DeprecationWarning: DataFrameGroupBy.apply operated on the grouping columns. This behavior is deprecated, and in a future version of pandas the grouping columns will be excluded from the operation. Either pass `include_groups=False` to exclude the groupings or explicitly select the grouping columns after groupby to silence this warning.\n",
      "  .apply(lambda y: y.set_index(fee_key)['记录数'].to_dict())  # 将计费和对应数量转为字典\n",
      "C:\\Users\\alice\\AppData\\Local\\Temp\\ipykernel_22660\\1415180165.py:6: DeprecationWarning: DataFrameGroupBy.apply operated on the grouping columns. This behavior is deprecated, and in a future version of pandas the grouping columns will be excluded from the operation. Either pass `include_groups=False` to exclude the groupings or explicitly select the grouping columns after groupby to silence this warning.\n",
      "  .apply(lambda y: y.set_index(fee_key)['记录数'].to_dict())  # 将计费和对应数量转为字典\n",
      "C:\\Users\\alice\\AppData\\Local\\Temp\\ipykernel_22660\\1415180165.py:6: DeprecationWarning: DataFrameGroupBy.apply operated on the grouping columns. This behavior is deprecated, and in a future version of pandas the grouping columns will be excluded from the operation. Either pass `include_groups=False` to exclude the groupings or explicitly select the grouping columns after groupby to silence this warning.\n",
      "  .apply(lambda y: y.set_index(fee_key)['记录数'].to_dict())  # 将计费和对应数量转为字典\n",
      "C:\\Users\\alice\\AppData\\Local\\Temp\\ipykernel_22660\\1415180165.py:6: DeprecationWarning: DataFrameGroupBy.apply operated on the grouping columns. This behavior is deprecated, and in a future version of pandas the grouping columns will be excluded from the operation. Either pass `include_groups=False` to exclude the groupings or explicitly select the grouping columns after groupby to silence this warning.\n",
      "  .apply(lambda y: y.set_index(fee_key)['记录数'].to_dict())  # 将计费和对应数量转为字典\n",
      "C:\\Users\\alice\\AppData\\Local\\Temp\\ipykernel_22660\\1415180165.py:6: DeprecationWarning: DataFrameGroupBy.apply operated on the grouping columns. This behavior is deprecated, and in a future version of pandas the grouping columns will be excluded from the operation. Either pass `include_groups=False` to exclude the groupings or explicitly select the grouping columns after groupby to silence this warning.\n",
      "  .apply(lambda y: y.set_index(fee_key)['记录数'].to_dict())  # 将计费和对应数量转为字典\n",
      "C:\\Users\\alice\\AppData\\Local\\Temp\\ipykernel_22660\\1415180165.py:6: DeprecationWarning: DataFrameGroupBy.apply operated on the grouping columns. This behavior is deprecated, and in a future version of pandas the grouping columns will be excluded from the operation. Either pass `include_groups=False` to exclude the groupings or explicitly select the grouping columns after groupby to silence this warning.\n",
      "  .apply(lambda y: y.set_index(fee_key)['记录数'].to_dict())  # 将计费和对应数量转为字典\n",
      "C:\\Users\\alice\\AppData\\Local\\Temp\\ipykernel_22660\\1415180165.py:6: DeprecationWarning: DataFrameGroupBy.apply operated on the grouping columns. This behavior is deprecated, and in a future version of pandas the grouping columns will be excluded from the operation. Either pass `include_groups=False` to exclude the groupings or explicitly select the grouping columns after groupby to silence this warning.\n",
      "  .apply(lambda y: y.set_index(fee_key)['记录数'].to_dict())  # 将计费和对应数量转为字典\n",
      "C:\\Users\\alice\\AppData\\Local\\Temp\\ipykernel_22660\\1415180165.py:6: DeprecationWarning: DataFrameGroupBy.apply operated on the grouping columns. This behavior is deprecated, and in a future version of pandas the grouping columns will be excluded from the operation. Either pass `include_groups=False` to exclude the groupings or explicitly select the grouping columns after groupby to silence this warning.\n",
      "  .apply(lambda y: y.set_index(fee_key)['记录数'].to_dict())  # 将计费和对应数量转为字典\n",
      "C:\\Users\\alice\\AppData\\Local\\Temp\\ipykernel_22660\\1415180165.py:6: DeprecationWarning: DataFrameGroupBy.apply operated on the grouping columns. This behavior is deprecated, and in a future version of pandas the grouping columns will be excluded from the operation. Either pass `include_groups=False` to exclude the groupings or explicitly select the grouping columns after groupby to silence this warning.\n",
      "  .apply(lambda y: y.set_index(fee_key)['记录数'].to_dict())  # 将计费和对应数量转为字典\n",
      "C:\\Users\\alice\\AppData\\Local\\Temp\\ipykernel_22660\\1415180165.py:6: DeprecationWarning: DataFrameGroupBy.apply operated on the grouping columns. This behavior is deprecated, and in a future version of pandas the grouping columns will be excluded from the operation. Either pass `include_groups=False` to exclude the groupings or explicitly select the grouping columns after groupby to silence this warning.\n",
      "  .apply(lambda y: y.set_index(fee_key)['记录数'].to_dict())  # 将计费和对应数量转为字典\n",
      "C:\\Users\\alice\\AppData\\Local\\Temp\\ipykernel_22660\\1415180165.py:6: DeprecationWarning: DataFrameGroupBy.apply operated on the grouping columns. This behavior is deprecated, and in a future version of pandas the grouping columns will be excluded from the operation. Either pass `include_groups=False` to exclude the groupings or explicitly select the grouping columns after groupby to silence this warning.\n",
      "  .apply(lambda y: y.set_index(fee_key)['记录数'].to_dict())  # 将计费和对应数量转为字典\n",
      "C:\\Users\\alice\\AppData\\Local\\Temp\\ipykernel_22660\\1415180165.py:6: DeprecationWarning: DataFrameGroupBy.apply operated on the grouping columns. This behavior is deprecated, and in a future version of pandas the grouping columns will be excluded from the operation. Either pass `include_groups=False` to exclude the groupings or explicitly select the grouping columns after groupby to silence this warning.\n",
      "  .apply(lambda y: y.set_index(fee_key)['记录数'].to_dict())  # 将计费和对应数量转为字典\n",
      "C:\\Users\\alice\\AppData\\Local\\Temp\\ipykernel_22660\\1415180165.py:6: DeprecationWarning: DataFrameGroupBy.apply operated on the grouping columns. This behavior is deprecated, and in a future version of pandas the grouping columns will be excluded from the operation. Either pass `include_groups=False` to exclude the groupings or explicitly select the grouping columns after groupby to silence this warning.\n",
      "  .apply(lambda y: y.set_index(fee_key)['记录数'].to_dict())  # 将计费和对应数量转为字典\n",
      "C:\\Users\\alice\\AppData\\Local\\Temp\\ipykernel_22660\\1415180165.py:6: DeprecationWarning: DataFrameGroupBy.apply operated on the grouping columns. This behavior is deprecated, and in a future version of pandas the grouping columns will be excluded from the operation. Either pass `include_groups=False` to exclude the groupings or explicitly select the grouping columns after groupby to silence this warning.\n",
      "  .apply(lambda y: y.set_index(fee_key)['记录数'].to_dict())  # 将计费和对应数量转为字典\n",
      "C:\\Users\\alice\\AppData\\Local\\Temp\\ipykernel_22660\\1415180165.py:6: DeprecationWarning: DataFrameGroupBy.apply operated on the grouping columns. This behavior is deprecated, and in a future version of pandas the grouping columns will be excluded from the operation. Either pass `include_groups=False` to exclude the groupings or explicitly select the grouping columns after groupby to silence this warning.\n",
      "  .apply(lambda y: y.set_index(fee_key)['记录数'].to_dict())  # 将计费和对应数量转为字典\n",
      "C:\\Users\\alice\\AppData\\Local\\Temp\\ipykernel_22660\\1415180165.py:6: DeprecationWarning: DataFrameGroupBy.apply operated on the grouping columns. This behavior is deprecated, and in a future version of pandas the grouping columns will be excluded from the operation. Either pass `include_groups=False` to exclude the groupings or explicitly select the grouping columns after groupby to silence this warning.\n",
      "  .apply(lambda y: y.set_index(fee_key)['记录数'].to_dict())  # 将计费和对应数量转为字典\n",
      "C:\\Users\\alice\\AppData\\Local\\Temp\\ipykernel_22660\\1415180165.py:6: DeprecationWarning: DataFrameGroupBy.apply operated on the grouping columns. This behavior is deprecated, and in a future version of pandas the grouping columns will be excluded from the operation. Either pass `include_groups=False` to exclude the groupings or explicitly select the grouping columns after groupby to silence this warning.\n",
      "  .apply(lambda y: y.set_index(fee_key)['记录数'].to_dict())  # 将计费和对应数量转为字典\n",
      "C:\\Users\\alice\\AppData\\Local\\Temp\\ipykernel_22660\\1415180165.py:6: DeprecationWarning: DataFrameGroupBy.apply operated on the grouping columns. This behavior is deprecated, and in a future version of pandas the grouping columns will be excluded from the operation. Either pass `include_groups=False` to exclude the groupings or explicitly select the grouping columns after groupby to silence this warning.\n",
      "  .apply(lambda y: y.set_index(fee_key)['记录数'].to_dict())  # 将计费和对应数量转为字典\n",
      "C:\\Users\\alice\\AppData\\Local\\Temp\\ipykernel_22660\\1415180165.py:6: DeprecationWarning: DataFrameGroupBy.apply operated on the grouping columns. This behavior is deprecated, and in a future version of pandas the grouping columns will be excluded from the operation. Either pass `include_groups=False` to exclude the groupings or explicitly select the grouping columns after groupby to silence this warning.\n",
      "  .apply(lambda y: y.set_index(fee_key)['记录数'].to_dict())  # 将计费和对应数量转为字典\n",
      "C:\\Users\\alice\\AppData\\Local\\Temp\\ipykernel_22660\\1415180165.py:6: DeprecationWarning: DataFrameGroupBy.apply operated on the grouping columns. This behavior is deprecated, and in a future version of pandas the grouping columns will be excluded from the operation. Either pass `include_groups=False` to exclude the groupings or explicitly select the grouping columns after groupby to silence this warning.\n",
      "  .apply(lambda y: y.set_index(fee_key)['记录数'].to_dict())  # 将计费和对应数量转为字典\n",
      "C:\\Users\\alice\\AppData\\Local\\Temp\\ipykernel_22660\\1415180165.py:6: DeprecationWarning: DataFrameGroupBy.apply operated on the grouping columns. This behavior is deprecated, and in a future version of pandas the grouping columns will be excluded from the operation. Either pass `include_groups=False` to exclude the groupings or explicitly select the grouping columns after groupby to silence this warning.\n",
      "  .apply(lambda y: y.set_index(fee_key)['记录数'].to_dict())  # 将计费和对应数量转为字典\n",
      "C:\\Users\\alice\\AppData\\Local\\Temp\\ipykernel_22660\\1415180165.py:6: DeprecationWarning: DataFrameGroupBy.apply operated on the grouping columns. This behavior is deprecated, and in a future version of pandas the grouping columns will be excluded from the operation. Either pass `include_groups=False` to exclude the groupings or explicitly select the grouping columns after groupby to silence this warning.\n",
      "  .apply(lambda y: y.set_index(fee_key)['记录数'].to_dict())  # 将计费和对应数量转为字典\n",
      "C:\\Users\\alice\\AppData\\Local\\Temp\\ipykernel_22660\\1415180165.py:6: DeprecationWarning: DataFrameGroupBy.apply operated on the grouping columns. This behavior is deprecated, and in a future version of pandas the grouping columns will be excluded from the operation. Either pass `include_groups=False` to exclude the groupings or explicitly select the grouping columns after groupby to silence this warning.\n",
      "  .apply(lambda y: y.set_index(fee_key)['记录数'].to_dict())  # 将计费和对应数量转为字典\n",
      "C:\\Users\\alice\\AppData\\Local\\Temp\\ipykernel_22660\\1415180165.py:6: DeprecationWarning: DataFrameGroupBy.apply operated on the grouping columns. This behavior is deprecated, and in a future version of pandas the grouping columns will be excluded from the operation. Either pass `include_groups=False` to exclude the groupings or explicitly select the grouping columns after groupby to silence this warning.\n",
      "  .apply(lambda y: y.set_index(fee_key)['记录数'].to_dict())  # 将计费和对应数量转为字典\n",
      "C:\\Users\\alice\\AppData\\Local\\Temp\\ipykernel_22660\\1415180165.py:6: DeprecationWarning: DataFrameGroupBy.apply operated on the grouping columns. This behavior is deprecated, and in a future version of pandas the grouping columns will be excluded from the operation. Either pass `include_groups=False` to exclude the groupings or explicitly select the grouping columns after groupby to silence this warning.\n",
      "  .apply(lambda y: y.set_index(fee_key)['记录数'].to_dict())  # 将计费和对应数量转为字典\n",
      "C:\\Users\\alice\\AppData\\Local\\Temp\\ipykernel_22660\\1415180165.py:6: DeprecationWarning: DataFrameGroupBy.apply operated on the grouping columns. This behavior is deprecated, and in a future version of pandas the grouping columns will be excluded from the operation. Either pass `include_groups=False` to exclude the groupings or explicitly select the grouping columns after groupby to silence this warning.\n",
      "  .apply(lambda y: y.set_index(fee_key)['记录数'].to_dict())  # 将计费和对应数量转为字典\n",
      "C:\\Users\\alice\\AppData\\Local\\Temp\\ipykernel_22660\\1415180165.py:6: DeprecationWarning: DataFrameGroupBy.apply operated on the grouping columns. This behavior is deprecated, and in a future version of pandas the grouping columns will be excluded from the operation. Either pass `include_groups=False` to exclude the groupings or explicitly select the grouping columns after groupby to silence this warning.\n",
      "  .apply(lambda y: y.set_index(fee_key)['记录数'].to_dict())  # 将计费和对应数量转为字典\n",
      "C:\\Users\\alice\\AppData\\Local\\Temp\\ipykernel_22660\\1415180165.py:6: DeprecationWarning: DataFrameGroupBy.apply operated on the grouping columns. This behavior is deprecated, and in a future version of pandas the grouping columns will be excluded from the operation. Either pass `include_groups=False` to exclude the groupings or explicitly select the grouping columns after groupby to silence this warning.\n",
      "  .apply(lambda y: y.set_index(fee_key)['记录数'].to_dict())  # 将计费和对应数量转为字典\n",
      "C:\\Users\\alice\\AppData\\Local\\Temp\\ipykernel_22660\\1415180165.py:6: DeprecationWarning: DataFrameGroupBy.apply operated on the grouping columns. This behavior is deprecated, and in a future version of pandas the grouping columns will be excluded from the operation. Either pass `include_groups=False` to exclude the groupings or explicitly select the grouping columns after groupby to silence this warning.\n",
      "  .apply(lambda y: y.set_index(fee_key)['记录数'].to_dict())  # 将计费和对应数量转为字典\n",
      "C:\\Users\\alice\\AppData\\Local\\Temp\\ipykernel_22660\\1415180165.py:6: DeprecationWarning: DataFrameGroupBy.apply operated on the grouping columns. This behavior is deprecated, and in a future version of pandas the grouping columns will be excluded from the operation. Either pass `include_groups=False` to exclude the groupings or explicitly select the grouping columns after groupby to silence this warning.\n",
      "  .apply(lambda y: y.set_index(fee_key)['记录数'].to_dict())  # 将计费和对应数量转为字典\n",
      "C:\\Users\\alice\\AppData\\Local\\Temp\\ipykernel_22660\\1415180165.py:6: DeprecationWarning: DataFrameGroupBy.apply operated on the grouping columns. This behavior is deprecated, and in a future version of pandas the grouping columns will be excluded from the operation. Either pass `include_groups=False` to exclude the groupings or explicitly select the grouping columns after groupby to silence this warning.\n",
      "  .apply(lambda y: y.set_index(fee_key)['记录数'].to_dict())  # 将计费和对应数量转为字典\n",
      "C:\\Users\\alice\\AppData\\Local\\Temp\\ipykernel_22660\\1415180165.py:6: DeprecationWarning: DataFrameGroupBy.apply operated on the grouping columns. This behavior is deprecated, and in a future version of pandas the grouping columns will be excluded from the operation. Either pass `include_groups=False` to exclude the groupings or explicitly select the grouping columns after groupby to silence this warning.\n",
      "  .apply(lambda y: y.set_index(fee_key)['记录数'].to_dict())  # 将计费和对应数量转为字典\n",
      "C:\\Users\\alice\\AppData\\Local\\Temp\\ipykernel_22660\\1415180165.py:6: DeprecationWarning: DataFrameGroupBy.apply operated on the grouping columns. This behavior is deprecated, and in a future version of pandas the grouping columns will be excluded from the operation. Either pass `include_groups=False` to exclude the groupings or explicitly select the grouping columns after groupby to silence this warning.\n",
      "  .apply(lambda y: y.set_index(fee_key)['记录数'].to_dict())  # 将计费和对应数量转为字典\n",
      "C:\\Users\\alice\\AppData\\Local\\Temp\\ipykernel_22660\\1415180165.py:6: DeprecationWarning: DataFrameGroupBy.apply operated on the grouping columns. This behavior is deprecated, and in a future version of pandas the grouping columns will be excluded from the operation. Either pass `include_groups=False` to exclude the groupings or explicitly select the grouping columns after groupby to silence this warning.\n",
      "  .apply(lambda y: y.set_index(fee_key)['记录数'].to_dict())  # 将计费和对应数量转为字典\n",
      "C:\\Users\\alice\\AppData\\Local\\Temp\\ipykernel_22660\\1415180165.py:6: DeprecationWarning: DataFrameGroupBy.apply operated on the grouping columns. This behavior is deprecated, and in a future version of pandas the grouping columns will be excluded from the operation. Either pass `include_groups=False` to exclude the groupings or explicitly select the grouping columns after groupby to silence this warning.\n",
      "  .apply(lambda y: y.set_index(fee_key)['记录数'].to_dict())  # 将计费和对应数量转为字典\n",
      "C:\\Users\\alice\\AppData\\Local\\Temp\\ipykernel_22660\\1415180165.py:6: DeprecationWarning: DataFrameGroupBy.apply operated on the grouping columns. This behavior is deprecated, and in a future version of pandas the grouping columns will be excluded from the operation. Either pass `include_groups=False` to exclude the groupings or explicitly select the grouping columns after groupby to silence this warning.\n",
      "  .apply(lambda y: y.set_index(fee_key)['记录数'].to_dict())  # 将计费和对应数量转为字典\n",
      "C:\\Users\\alice\\AppData\\Local\\Temp\\ipykernel_22660\\1415180165.py:6: DeprecationWarning: DataFrameGroupBy.apply operated on the grouping columns. This behavior is deprecated, and in a future version of pandas the grouping columns will be excluded from the operation. Either pass `include_groups=False` to exclude the groupings or explicitly select the grouping columns after groupby to silence this warning.\n",
      "  .apply(lambda y: y.set_index(fee_key)['记录数'].to_dict())  # 将计费和对应数量转为字典\n",
      "C:\\Users\\alice\\AppData\\Local\\Temp\\ipykernel_22660\\1415180165.py:6: DeprecationWarning: DataFrameGroupBy.apply operated on the grouping columns. This behavior is deprecated, and in a future version of pandas the grouping columns will be excluded from the operation. Either pass `include_groups=False` to exclude the groupings or explicitly select the grouping columns after groupby to silence this warning.\n",
      "  .apply(lambda y: y.set_index(fee_key)['记录数'].to_dict())  # 将计费和对应数量转为字典\n",
      "C:\\Users\\alice\\AppData\\Local\\Temp\\ipykernel_22660\\1415180165.py:6: DeprecationWarning: DataFrameGroupBy.apply operated on the grouping columns. This behavior is deprecated, and in a future version of pandas the grouping columns will be excluded from the operation. Either pass `include_groups=False` to exclude the groupings or explicitly select the grouping columns after groupby to silence this warning.\n",
      "  .apply(lambda y: y.set_index(fee_key)['记录数'].to_dict())  # 将计费和对应数量转为字典\n",
      "C:\\Users\\alice\\AppData\\Local\\Temp\\ipykernel_22660\\1415180165.py:6: DeprecationWarning: DataFrameGroupBy.apply operated on the grouping columns. This behavior is deprecated, and in a future version of pandas the grouping columns will be excluded from the operation. Either pass `include_groups=False` to exclude the groupings or explicitly select the grouping columns after groupby to silence this warning.\n",
      "  .apply(lambda y: y.set_index(fee_key)['记录数'].to_dict())  # 将计费和对应数量转为字典\n",
      "C:\\Users\\alice\\AppData\\Local\\Temp\\ipykernel_22660\\1415180165.py:6: DeprecationWarning: DataFrameGroupBy.apply operated on the grouping columns. This behavior is deprecated, and in a future version of pandas the grouping columns will be excluded from the operation. Either pass `include_groups=False` to exclude the groupings or explicitly select the grouping columns after groupby to silence this warning.\n",
      "  .apply(lambda y: y.set_index(fee_key)['记录数'].to_dict())  # 将计费和对应数量转为字典\n",
      "C:\\Users\\alice\\AppData\\Local\\Temp\\ipykernel_22660\\1415180165.py:6: DeprecationWarning: DataFrameGroupBy.apply operated on the grouping columns. This behavior is deprecated, and in a future version of pandas the grouping columns will be excluded from the operation. Either pass `include_groups=False` to exclude the groupings or explicitly select the grouping columns after groupby to silence this warning.\n",
      "  .apply(lambda y: y.set_index(fee_key)['记录数'].to_dict())  # 将计费和对应数量转为字典\n",
      "C:\\Users\\alice\\AppData\\Local\\Temp\\ipykernel_22660\\1415180165.py:6: DeprecationWarning: DataFrameGroupBy.apply operated on the grouping columns. This behavior is deprecated, and in a future version of pandas the grouping columns will be excluded from the operation. Either pass `include_groups=False` to exclude the groupings or explicitly select the grouping columns after groupby to silence this warning.\n",
      "  .apply(lambda y: y.set_index(fee_key)['记录数'].to_dict())  # 将计费和对应数量转为字典\n",
      "C:\\Users\\alice\\AppData\\Local\\Temp\\ipykernel_22660\\1415180165.py:6: DeprecationWarning: DataFrameGroupBy.apply operated on the grouping columns. This behavior is deprecated, and in a future version of pandas the grouping columns will be excluded from the operation. Either pass `include_groups=False` to exclude the groupings or explicitly select the grouping columns after groupby to silence this warning.\n",
      "  .apply(lambda y: y.set_index(fee_key)['记录数'].to_dict())  # 将计费和对应数量转为字典\n",
      "C:\\Users\\alice\\AppData\\Local\\Temp\\ipykernel_22660\\1415180165.py:6: DeprecationWarning: DataFrameGroupBy.apply operated on the grouping columns. This behavior is deprecated, and in a future version of pandas the grouping columns will be excluded from the operation. Either pass `include_groups=False` to exclude the groupings or explicitly select the grouping columns after groupby to silence this warning.\n",
      "  .apply(lambda y: y.set_index(fee_key)['记录数'].to_dict())  # 将计费和对应数量转为字典\n",
      "C:\\Users\\alice\\AppData\\Local\\Temp\\ipykernel_22660\\1415180165.py:6: DeprecationWarning: DataFrameGroupBy.apply operated on the grouping columns. This behavior is deprecated, and in a future version of pandas the grouping columns will be excluded from the operation. Either pass `include_groups=False` to exclude the groupings or explicitly select the grouping columns after groupby to silence this warning.\n",
      "  .apply(lambda y: y.set_index(fee_key)['记录数'].to_dict())  # 将计费和对应数量转为字典\n",
      "C:\\Users\\alice\\AppData\\Local\\Temp\\ipykernel_22660\\1415180165.py:6: DeprecationWarning: DataFrameGroupBy.apply operated on the grouping columns. This behavior is deprecated, and in a future version of pandas the grouping columns will be excluded from the operation. Either pass `include_groups=False` to exclude the groupings or explicitly select the grouping columns after groupby to silence this warning.\n",
      "  .apply(lambda y: y.set_index(fee_key)['记录数'].to_dict())  # 将计费和对应数量转为字典\n",
      "C:\\Users\\alice\\AppData\\Local\\Temp\\ipykernel_22660\\1415180165.py:6: DeprecationWarning: DataFrameGroupBy.apply operated on the grouping columns. This behavior is deprecated, and in a future version of pandas the grouping columns will be excluded from the operation. Either pass `include_groups=False` to exclude the groupings or explicitly select the grouping columns after groupby to silence this warning.\n",
      "  .apply(lambda y: y.set_index(fee_key)['记录数'].to_dict())  # 将计费和对应数量转为字典\n",
      "C:\\Users\\alice\\AppData\\Local\\Temp\\ipykernel_22660\\1415180165.py:6: DeprecationWarning: DataFrameGroupBy.apply operated on the grouping columns. This behavior is deprecated, and in a future version of pandas the grouping columns will be excluded from the operation. Either pass `include_groups=False` to exclude the groupings or explicitly select the grouping columns after groupby to silence this warning.\n",
      "  .apply(lambda y: y.set_index(fee_key)['记录数'].to_dict())  # 将计费和对应数量转为字典\n",
      "C:\\Users\\alice\\AppData\\Local\\Temp\\ipykernel_22660\\1415180165.py:6: DeprecationWarning: DataFrameGroupBy.apply operated on the grouping columns. This behavior is deprecated, and in a future version of pandas the grouping columns will be excluded from the operation. Either pass `include_groups=False` to exclude the groupings or explicitly select the grouping columns after groupby to silence this warning.\n",
      "  .apply(lambda y: y.set_index(fee_key)['记录数'].to_dict())  # 将计费和对应数量转为字典\n",
      "C:\\Users\\alice\\AppData\\Local\\Temp\\ipykernel_22660\\1415180165.py:6: DeprecationWarning: DataFrameGroupBy.apply operated on the grouping columns. This behavior is deprecated, and in a future version of pandas the grouping columns will be excluded from the operation. Either pass `include_groups=False` to exclude the groupings or explicitly select the grouping columns after groupby to silence this warning.\n",
      "  .apply(lambda y: y.set_index(fee_key)['记录数'].to_dict())  # 将计费和对应数量转为字典\n",
      "C:\\Users\\alice\\AppData\\Local\\Temp\\ipykernel_22660\\1415180165.py:6: DeprecationWarning: DataFrameGroupBy.apply operated on the grouping columns. This behavior is deprecated, and in a future version of pandas the grouping columns will be excluded from the operation. Either pass `include_groups=False` to exclude the groupings or explicitly select the grouping columns after groupby to silence this warning.\n",
      "  .apply(lambda y: y.set_index(fee_key)['记录数'].to_dict())  # 将计费和对应数量转为字典\n",
      "C:\\Users\\alice\\AppData\\Local\\Temp\\ipykernel_22660\\1415180165.py:6: DeprecationWarning: DataFrameGroupBy.apply operated on the grouping columns. This behavior is deprecated, and in a future version of pandas the grouping columns will be excluded from the operation. Either pass `include_groups=False` to exclude the groupings or explicitly select the grouping columns after groupby to silence this warning.\n",
      "  .apply(lambda y: y.set_index(fee_key)['记录数'].to_dict())  # 将计费和对应数量转为字典\n",
      "C:\\Users\\alice\\AppData\\Local\\Temp\\ipykernel_22660\\1415180165.py:5: DeprecationWarning: DataFrameGroupBy.apply operated on the grouping columns. This behavior is deprecated, and in a future version of pandas the grouping columns will be excluded from the operation. Either pass `include_groups=False` to exclude the groupings or explicitly select the grouping columns after groupby to silence this warning.\n",
      "  .apply(lambda x: x.groupby(signed_time_key)  # 在组内按签收时间分组\n"
     ]
    }
   ],
   "source": [
    "# 转换为嵌套 JSON\n",
    "nested_json = (\n",
    "    counts.reset_index()  # 将 MultiIndex 转为普通列\n",
    "    .groupby(receiver_key)  # 按收派员名字分组\n",
    "    .apply(lambda x: x.groupby(signed_time_key)  # 在组内按签收时间分组\n",
    "           .apply(lambda y: y.set_index(fee_key)['记录数'].to_dict())  # 将计费和对应数量转为字典\n",
    "           .to_dict())  # 将签收时间分组转为字典\n",
    "    .to_dict()  # 将收派员编号分组转为字典\n",
    ")"
   ]
  },
  {
   "cell_type": "code",
   "execution_count": 143,
   "metadata": {},
   "outputs": [],
   "source": [
    "name_join_sheet['data'] = name_join_sheet[receiver_key].apply(lambda x: nested_json.get(x, {}))"
   ]
  },
  {
   "cell_type": "code",
   "execution_count": 144,
   "metadata": {},
   "outputs": [],
   "source": [
    "# columns = [\"序号\", \"编号\", \"ACCOUNT\"]\n",
    "columns = [\"序号\", \"ACCOUNT\"]\n",
    "sub_columns = [\"\"] * len(columns)\n",
    "# 定义表头\n",
    "for d in dates:\n",
    "    columns.append(d)\n",
    "    columns.extend([\"\"] * (len(fees) - 1))\n",
    "\n",
    "    sub_columns.extend(fees)\n",
    "\n",
    "columns.append(\"Total\")\n",
    "sub_columns.append(\"\")\n",
    "# 创建多级表头\n",
    "header = pd.MultiIndex.from_tuples(list(zip(columns, sub_columns)))"
   ]
  },
  {
   "cell_type": "code",
   "execution_count": 145,
   "metadata": {},
   "outputs": [],
   "source": [
    "full_data = []\n",
    "\n",
    "for idx, person in name_join_sheet.iterrows():\n",
    "    data = [idx+1, person['account']]\n",
    "    for d in dates:\n",
    "        if d in person['data']:\n",
    "            for f in fees:\n",
    "                if f in person['data'][d]:\n",
    "                    data.append(person['data'][d].get(f, \"\"))\n",
    "                else:\n",
    "                    data.append(\"\")\n",
    "        else:\n",
    "            data.extend([\"\"] * len(fees))\n",
    "    data.append(person['总数'])\n",
    "    full_data.append(data)"
   ]
  },
  {
   "cell_type": "code",
   "execution_count": 146,
   "metadata": {},
   "outputs": [],
   "source": [
    "# 添加汇总行\n",
    "total_row = [\"Total\", \"总计\"]\n",
    "total_by_date_fee = {}  # 用于存储每个日期和费用类型的总和\n",
    "\n",
    "# 初始化汇总数据结构\n",
    "for d in dates:\n",
    "    total_by_date_fee[d] = {f: 0 for f in fees}\n",
    "\n",
    "# 计算每个日期和费用类型的总和\n",
    "for person in name_join_sheet.itertuples():\n",
    "    for d in dates:\n",
    "        if hasattr(person, 'data') and d in person.data:\n",
    "            for f in fees:\n",
    "                if f in person.data[d]:\n",
    "                    total_by_date_fee[d][f] += person.data[d][f]\n",
    "\n",
    "# 构建汇总行数据\n",
    "for d in dates:\n",
    "    for f in fees:\n",
    "        total_row.append(total_by_date_fee[d][f])\n",
    "\n",
    "# 添加总计数量\n",
    "total_row.append(name_join_sheet['总数'].sum())\n",
    "\n",
    "# 将汇总行添加到full_data\n",
    "full_data.append(total_row)"
   ]
  },
  {
   "cell_type": "code",
   "execution_count": 147,
   "metadata": {},
   "outputs": [],
   "source": [
    "# 创建 DataFrame\n",
    "df = pd.DataFrame(full_data, columns=header)"
   ]
  },
  {
   "cell_type": "code",
   "execution_count": 148,
   "metadata": {},
   "outputs": [
    {
     "name": "stdout",
     "output_type": "stream",
     "text": [
      "文件已保存至 output\\BNE\\2025-04-14_2025-04-25/per_person_details.xlsx\n"
     ]
    }
   ],
   "source": [
    "from openpyxl import load_workbook\n",
    "\n",
    "df.to_excel(f\"{project_cache_path}/output.xlsx\", index=True)\n",
    "# 加载并移除空行\n",
    "wb = load_workbook(f\"{project_cache_path}/output.xlsx\")\n",
    "ws = wb.active\n",
    "\n",
    "# 删除空行（通常是第3行）\n",
    "ws.delete_rows(3)\n",
    "# ws.delete_cols(0)\n",
    "\n",
    "# 保存调整后的文件\n",
    "wb.save(f\"{project_path}/per_person_details.xlsx\")\n",
    "print(f\"文件已保存至 {project_path}/per_person_details.xlsx\")\n",
    "wb.close()"
   ]
  }
 ],
 "metadata": {
  "kernelspec": {
   "display_name": "py311",
   "language": "python",
   "name": "python3"
  },
  "language_info": {
   "codemirror_mode": {
    "name": "ipython",
    "version": 3
   },
   "file_extension": ".py",
   "mimetype": "text/x-python",
   "name": "python",
   "nbconvert_exporter": "python",
   "pygments_lexer": "ipython3",
   "version": "3.11.8"
  }
 },
 "nbformat": 4,
 "nbformat_minor": 2
}
