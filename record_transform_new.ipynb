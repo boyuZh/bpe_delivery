{
 "cells": [
  {
   "cell_type": "code",
   "execution_count": 1,
   "metadata": {},
   "outputs": [],
   "source": [
    "import pandas as pd\n",
    "import json\n",
    "import os\n",
    "import numpy as np"
   ]
  },
  {
   "cell_type": "code",
   "execution_count": 2,
   "metadata": {},
   "outputs": [
    {
     "name": "stderr",
     "output_type": "stream",
     "text": [
      "c:\\Users\\Boyu\\anaconda3\\envs\\py311\\Lib\\site-packages\\openpyxl\\styles\\stylesheet.py:226: UserWarning: Workbook contains no default style, apply openpyxl's default\n",
      "  warn(\"Workbook contains no default style, apply openpyxl's default\")\n",
      "c:\\Users\\Boyu\\anaconda3\\envs\\py311\\Lib\\site-packages\\openpyxl\\styles\\stylesheet.py:226: UserWarning: Workbook contains no default style, apply openpyxl's default\n",
      "  warn(\"Workbook contains no default style, apply openpyxl's default\")\n",
      "c:\\Users\\Boyu\\anaconda3\\envs\\py311\\Lib\\site-packages\\openpyxl\\styles\\stylesheet.py:226: UserWarning: Workbook contains no default style, apply openpyxl's default\n",
      "  warn(\"Workbook contains no default style, apply openpyxl's default\")\n",
      "c:\\Users\\Boyu\\anaconda3\\envs\\py311\\Lib\\site-packages\\openpyxl\\styles\\stylesheet.py:226: UserWarning: Workbook contains no default style, apply openpyxl's default\n",
      "  warn(\"Workbook contains no default style, apply openpyxl's default\")\n"
     ]
    }
   ],
   "source": [
    "# folder_path = r\"D:\\Projects\\transport\\raw_bill\\week15\"\n",
    "\n",
    "# file_paths = [os.path.join(folder_path, f) for f in os.listdir(folder_path) if f.endswith('.xlsx')]\n",
    "# raw_sheets = []\n",
    "\n",
    "# for file_path in file_paths:\n",
    "#     rs = pd.read_excel(file_path, sheet_name=\"sheet1\")\n",
    "#     raw_sheets.append(rs)\n",
    "\n",
    "# full_sheet = pd.concat(raw_sheets)"
   ]
  },
  {
   "cell_type": "code",
   "execution_count": null,
   "metadata": {},
   "outputs": [],
   "source": [
    "signed_time_key = \"Business Time\"\n",
    "receiver_key = \"Driver's name\"\n",
    "fee_key = \"Total amount including tax\"\n",
    "post_code_key = \"Postal Code\"\n",
    "weight_key = \"CW\"\n",
    "verify_remark_key = \"Verify Remark\"\n"
   ]
  },
  {
   "cell_type": "code",
   "execution_count": null,
   "metadata": {},
   "outputs": [
    {
     "name": "stderr",
     "output_type": "stream",
     "text": [
      "c:\\Users\\Boyu\\anaconda3\\envs\\py311\\Lib\\site-packages\\openpyxl\\styles\\stylesheet.py:226: UserWarning: Workbook contains no default style, apply openpyxl's default\n",
      "  warn(\"Workbook contains no default style, apply openpyxl's default\")\n"
     ]
    }
   ],
   "source": [
    "file_path = r\"raw_bill\\week15\\账单明细 (2).xlsx\"\n",
    "full_sheet = pd.read_excel(file_path, sheet_name=\"sheet1\", , usecols=[signed_time_key, receiver_key, fee_key, post_code_key, weight_key, verify_remark_key])"
   ]
  },
  {
   "cell_type": "code",
   "execution_count": 84,
   "metadata": {},
   "outputs": [
    {
     "data": {
      "text/plain": [
       "Index(['Serial number', 'Business Order NO.', 'Waybill No',\n",
       "       'Settlement Object Type', 'Billing Title', 'Adjudicate Reason',\n",
       "       'Adjudicate Description', 'Work Order Category Line', 'Bill Date',\n",
       "       'Bill number', 'Revenue And Expenditure Type', 'Settlement Object Code',\n",
       "       'Settlement Object Name', 'Settlement amount',\n",
       "       'Total amount including tax', 'Excluding tax amount', 'Tax category',\n",
       "       'Tax rate', 'Tax amount', 'Withholding and payment on behalf of others',\n",
       "       'Currency', 'Billing status', 'Settlement status', 'destination zone',\n",
       "       'destination station', 'Postal Code', 'Price ID', 'Driver's name',\n",
       "       'Driver Code', 'Contract Coding', 'Settlement number',\n",
       "       'Settlement Subject', 'Supplier Bank Account Name',\n",
       "       'Supplier Bank Account Code', 'CW', 'Upload weight',\n",
       "       'Upload volume weight', 'Gross weight', 'The actual volume is heavy',\n",
       "       'Verify Operator', 'Verify Time', 'Business Time', 'Bill Flow Time',\n",
       "       'Create Operator', 'Create Time', 'Add Remark', 'Verify Remark'],\n",
       "      dtype='object')"
      ]
     },
     "execution_count": 84,
     "metadata": {},
     "output_type": "execute_result"
    }
   ],
   "source": [
    "full_sheet.keys()"
   ]
  },
  {
   "cell_type": "code",
   "execution_count": 88,
   "metadata": {},
   "outputs": [
    {
     "data": {
      "text/plain": [
       "(64754, 6)"
      ]
     },
     "execution_count": 88,
     "metadata": {},
     "output_type": "execute_result"
    }
   ],
   "source": [
    "full_sheet.shape"
   ]
  },
  {
   "cell_type": "code",
   "execution_count": 87,
   "metadata": {},
   "outputs": [],
   "source": [
    "full_sheet = full_sheet[[signed_time_key, receiver_key, fee_key, post_code_key, weight_key, verify_remark_key]]"
   ]
  },
  {
   "cell_type": "code",
   "execution_count": 332,
   "metadata": {},
   "outputs": [],
   "source": [
    "# name_sheet = pd.read_csv('data/name_sheet2.csv')\n",
    "city_name = input(\"请输入城市名称 (例如: SYD): \").upper()\n",
    "if city_name.upper() == \"SYD\":\n",
    "    name_sheet_path = 'data/name_sheet_syd.csv'\n",
    "    post_prefix = \"2\"\n",
    "elif city_name.upper() == \"ADL\":\n",
    "    name_sheet_path = 'data/name_sheet_ade.csv'\n",
    "    post_prefix = \"5\"\n",
    "elif city_name.upper() == \"BNE\":\n",
    "    name_sheet_path = 'data/name_sheet_bne.csv'\n",
    "    post_prefix = \"4\"\n",
    "else:\n",
    "    print(f\"未找到城市 {city_name} 对应的name_sheet文件，将使用默认文件\")\n",
    "    name_sheet_path = 'data/name_sheet2.csv'\n",
    "\n"
   ]
  },
  {
   "cell_type": "code",
   "execution_count": 333,
   "metadata": {},
   "outputs": [],
   "source": [
    "name_sheet = pd.read_csv(name_sheet_path)\n",
    "full_sheet[post_code_key] = full_sheet[post_code_key].astype(str)\n",
    "city_sheet = full_sheet[full_sheet[post_code_key].str.startswith(post_prefix)]"
   ]
  },
  {
   "cell_type": "code",
   "execution_count": 334,
   "metadata": {},
   "outputs": [],
   "source": [
    "penalty_sheet = city_sheet[city_sheet[verify_remark_key] == \"adjustBill\"]\n",
    "raw_sheet = city_sheet[city_sheet[verify_remark_key] != \"adjustBill\"]"
   ]
  },
  {
   "cell_type": "code",
   "execution_count": 335,
   "metadata": {},
   "outputs": [
    {
     "data": {
      "text/plain": [
       "(326, 6)"
      ]
     },
     "execution_count": 335,
     "metadata": {},
     "output_type": "execute_result"
    }
   ],
   "source": [
    "raw_sheet.shape"
   ]
  },
  {
   "cell_type": "code",
   "execution_count": 336,
   "metadata": {},
   "outputs": [
    {
     "data": {
      "text/plain": [
       "(13, 1)"
      ]
     },
     "execution_count": 336,
     "metadata": {},
     "output_type": "execute_result"
    }
   ],
   "source": [
    "name_sheet.shape"
   ]
  },
  {
   "cell_type": "code",
   "execution_count": 337,
   "metadata": {},
   "outputs": [
    {
     "data": {
      "text/plain": [
       "(0, 6)"
      ]
     },
     "execution_count": 337,
     "metadata": {},
     "output_type": "execute_result"
    }
   ],
   "source": [
    "penalty_sheet.shape"
   ]
  },
  {
   "cell_type": "code",
   "execution_count": 338,
   "metadata": {},
   "outputs": [],
   "source": [
    "\n",
    "# 时间格式为2025-04-13 16:05:59，需要提取日期\n",
    "\n",
    "dates = raw_sheet[signed_time_key].apply(lambda x: str(x)[:10]).unique()\n",
    "dates = np.sort(dates)\n",
    "dates = [str(date)[:10] for date in dates]\n",
    "folder_name = \"_\".join([dates[0], dates[-1]])\n",
    "project_path = os.path.join(\"output\", city_name, folder_name)\n",
    "project_cache_path = os.path.join(project_path, \"cache\")\n",
    "os.makedirs(project_path, exist_ok=True)\n",
    "os.makedirs(project_cache_path, exist_ok=True)"
   ]
  },
  {
   "cell_type": "code",
   "execution_count": 339,
   "metadata": {},
   "outputs": [],
   "source": [
    "fees = raw_sheet[fee_key].unique()\n",
    "fees.sort()"
   ]
  },
  {
   "cell_type": "markdown",
   "metadata": {},
   "source": [
    "### 获取当周汇总数据"
   ]
  },
  {
   "cell_type": "code",
   "execution_count": 340,
   "metadata": {},
   "outputs": [],
   "source": [
    "raw_sheet = raw_sheet[raw_sheet[fee_key] > 0]"
   ]
  },
  {
   "cell_type": "code",
   "execution_count": 341,
   "metadata": {},
   "outputs": [],
   "source": [
    "summary_sheet = raw_sheet[fee_key].value_counts().sort_index()"
   ]
  },
  {
   "cell_type": "code",
   "execution_count": 342,
   "metadata": {},
   "outputs": [],
   "source": [
    "# summary_sheet = summary_sheet[summary_sheet.index > 0]\n",
    "\n",
    "summary_sheet.name = '数量'\n",
    "\n",
    "new_data = pd.Series([summary_sheet.sum()], index=['Total'], name='数量')  # 新行数据\n",
    "summary_sheet = pd.concat([summary_sheet, new_data])  # 使用 pd.concat 添加新行\n",
    "summary_sheet.index.name = '单价'"
   ]
  },
  {
   "cell_type": "code",
   "execution_count": 343,
   "metadata": {},
   "outputs": [
    {
     "data": {
      "text/plain": [
       "单价\n",
       "2.2      326\n",
       "Total    326\n",
       "Name: 数量, dtype: int64"
      ]
     },
     "execution_count": 343,
     "metadata": {},
     "output_type": "execute_result"
    }
   ],
   "source": [
    "summary_sheet.head(20)"
   ]
  },
  {
   "cell_type": "code",
   "execution_count": 344,
   "metadata": {},
   "outputs": [],
   "source": [
    "summary_sheet.to_csv(f'{project_path}/week_summary.csv')"
   ]
  },
  {
   "cell_type": "markdown",
   "metadata": {},
   "source": [
    "### 获取每位派送员派送详情"
   ]
  },
  {
   "cell_type": "code",
   "execution_count": 345,
   "metadata": {},
   "outputs": [],
   "source": [
    "per_person_sum = raw_sheet[receiver_key].value_counts()"
   ]
  },
  {
   "cell_type": "code",
   "execution_count": 346,
   "metadata": {},
   "outputs": [],
   "source": [
    "per_person_sum.name = '总数'"
   ]
  },
  {
   "cell_type": "code",
   "execution_count": 347,
   "metadata": {},
   "outputs": [],
   "source": [
    "per_person_sum = pd.DataFrame(per_person_sum)\n",
    "per_person_sum = per_person_sum.reset_index()"
   ]
  },
  {
   "cell_type": "code",
   "execution_count": 348,
   "metadata": {},
   "outputs": [],
   "source": [
    "import pandas as pd\n",
    "import re\n",
    "\n",
    "# 定义函数，提取公司简称、账号 ID 和账号名称\n",
    "def extract_account_info(account_str):\n",
    "    match = re.match(r\"^([A-Z]+(?:-[A-Z]+)*)-(\\w+)-(.+)$\", account_str)\n",
    "    if match:\n",
    "        company_short = match.group(1)\n",
    "        account_id = match.group(2)\n",
    "        account_name = match.group(3)\n",
    "        return company_short, account_id, account_name\n",
    "    return None, None, account_str  # 仅有姓名时，填充 None\n"
   ]
  },
  {
   "cell_type": "code",
   "execution_count": 349,
   "metadata": {},
   "outputs": [],
   "source": [
    "# per_person_sum['name_id'] = [\"-\".join(x.split(\"-\")[:2]) for x in per_person_sum.index.tolist()]\n",
    "per_person_sum[['company_short', 'account_id', 'account_name']] = per_person_sum[receiver_key].apply(lambda x: pd.Series(extract_account_info(x)))"
   ]
  },
  {
   "cell_type": "code",
   "execution_count": 350,
   "metadata": {},
   "outputs": [
    {
     "data": {
      "text/plain": [
       "2"
      ]
     },
     "execution_count": 350,
     "metadata": {},
     "output_type": "execute_result"
    }
   ],
   "source": [
    "len(per_person_sum.index.unique())"
   ]
  },
  {
   "cell_type": "code",
   "execution_count": 351,
   "metadata": {},
   "outputs": [
    {
     "data": {
      "text/html": [
       "<div>\n",
       "<style scoped>\n",
       "    .dataframe tbody tr th:only-of-type {\n",
       "        vertical-align: middle;\n",
       "    }\n",
       "\n",
       "    .dataframe tbody tr th {\n",
       "        vertical-align: top;\n",
       "    }\n",
       "\n",
       "    .dataframe thead th {\n",
       "        text-align: right;\n",
       "    }\n",
       "</style>\n",
       "<table border=\"1\" class=\"dataframe\">\n",
       "  <thead>\n",
       "    <tr style=\"text-align: right;\">\n",
       "      <th></th>\n",
       "      <th>Driver's name</th>\n",
       "      <th>总数</th>\n",
       "      <th>company_short</th>\n",
       "      <th>account_id</th>\n",
       "      <th>account_name</th>\n",
       "    </tr>\n",
       "  </thead>\n",
       "  <tbody>\n",
       "    <tr>\n",
       "      <th>0</th>\n",
       "      <td>ADL-BPE-006-SUHAGI DESAI</td>\n",
       "      <td>275</td>\n",
       "      <td>ADL-BPE</td>\n",
       "      <td>006</td>\n",
       "      <td>SUHAGI DESAI</td>\n",
       "    </tr>\n",
       "    <tr>\n",
       "      <th>1</th>\n",
       "      <td>ADL-BPE-016-YASHKUMAR A RAVAL</td>\n",
       "      <td>51</td>\n",
       "      <td>ADL-BPE</td>\n",
       "      <td>016</td>\n",
       "      <td>YASHKUMAR A RAVAL</td>\n",
       "    </tr>\n",
       "  </tbody>\n",
       "</table>\n",
       "</div>"
      ],
      "text/plain": [
       "                   Driver's name   总数 company_short account_id  \\\n",
       "0       ADL-BPE-006-SUHAGI DESAI  275       ADL-BPE        006   \n",
       "1  ADL-BPE-016-YASHKUMAR A RAVAL   51       ADL-BPE        016   \n",
       "\n",
       "        account_name  \n",
       "0       SUHAGI DESAI  \n",
       "1  YASHKUMAR A RAVAL  "
      ]
     },
     "execution_count": 351,
     "metadata": {},
     "output_type": "execute_result"
    }
   ],
   "source": [
    "per_person_sum.head()"
   ]
  },
  {
   "cell_type": "code",
   "execution_count": 352,
   "metadata": {},
   "outputs": [],
   "source": [
    "# 找到新增的名字\n",
    "name_sheet[['company_short', 'account_id', 'account_name']] = name_sheet['account'].apply(lambda x: pd.Series(extract_account_info(x)))\n",
    "per_person_sum[\"account_id_name\"] = per_person_sum.apply(lambda row: \n",
    "    f\"{row['account_id']}-{row['account_name']}\" if row[\"account_id\"] else row[\"account_name\"], axis=1)\n",
    "per_person_sum['account_name'] = per_person_sum['account_name'].apply(lambda x: x.strip())\n",
    "\n",
    "name_sheet[\"account_id_name\"] = name_sheet.apply(lambda row: \n",
    "    f\"{row['account_id']}-{row['account_name']}\" if row[\"account_id\"] else row[\"account_name\"], axis=1)\n",
    "\n",
    "name_sheet['account_name'] = name_sheet['account_name'].apply(lambda x: x.strip())\n",
    "\n",
    "\n",
    "dedup_key = 'account_name'\n",
    "\n",
    "duplicate_mask = name_sheet.duplicated(subset=[dedup_key], keep=False)\n",
    "if duplicate_mask.any():\n",
    "    # 获取所有重复的记录\n",
    "    duplicates = name_sheet[duplicate_mask].copy()\n",
    "    \n",
    "    # 按account_id_name分组，对每组进行处理\n",
    "    for account_id_name, group in duplicates.groupby(dedup_key):\n",
    "        if len(group) > 1:  # 如果有重复记录\n",
    "            # 检查是否有BPE记录\n",
    "            bpe_record = group[group['company_short'] == 'BPE']\n",
    "            if not bpe_record.empty:\n",
    "                # 如果有BPE记录，删除其他记录\n",
    "                name_sheet = name_sheet[~((name_sheet[dedup_key] == account_id_name) & \n",
    "                                        (name_sheet['company_short'] != 'BPE'))]\n",
    "            else:\n",
    "                # 如果没有BPE记录，保留第一条记录\n",
    "                name_sheet = name_sheet[~((name_sheet[dedup_key] == account_id_name) & \n",
    "                                        (name_sheet.index != group.index[0]))]\n",
    "\n",
    "\n",
    "new_names_id = set(per_person_sum[dedup_key].tolist()) - set(name_sheet[dedup_key].tolist())\n",
    "new_names_id = list(new_names_id)\n",
    "\n"
   ]
  },
  {
   "cell_type": "code",
   "execution_count": 353,
   "metadata": {},
   "outputs": [],
   "source": [
    "# 添加到name_sheet\n",
    "if new_names_id:  # only proceed if there are new names\n",
    "    new_names = []\n",
    "    for name_id in new_names_id:\n",
    "        # Get the full name from per_person_sum DataFrame\n",
    "        new_person_record = per_person_sum[per_person_sum[dedup_key]==name_id]\n",
    "        company_short, account_id, account_name = extract_account_info(new_person_record[receiver_key].values[0])\n",
    "        new_names.append({\n",
    "            'account': new_person_record[receiver_key].values[0],\n",
    "            'company_short': company_short,\n",
    "            'account_id': account_id,\n",
    "            'account_name': account_name\n",
    "        })\n",
    "    \n",
    "    new_name_sheet = pd.DataFrame(new_names)\n",
    "    name_sheet = pd.concat([name_sheet, new_name_sheet], ignore_index=True)"
   ]
  },
  {
   "cell_type": "code",
   "execution_count": 354,
   "metadata": {},
   "outputs": [],
   "source": [
    "name_sheet['account'].drop_duplicates().to_csv(name_sheet_path, index=False)"
   ]
  },
  {
   "cell_type": "code",
   "execution_count": 355,
   "metadata": {},
   "outputs": [
    {
     "data": {
      "text/html": [
       "<div>\n",
       "<style scoped>\n",
       "    .dataframe tbody tr th:only-of-type {\n",
       "        vertical-align: middle;\n",
       "    }\n",
       "\n",
       "    .dataframe tbody tr th {\n",
       "        vertical-align: top;\n",
       "    }\n",
       "\n",
       "    .dataframe thead th {\n",
       "        text-align: right;\n",
       "    }\n",
       "</style>\n",
       "<table border=\"1\" class=\"dataframe\">\n",
       "  <thead>\n",
       "    <tr style=\"text-align: right;\">\n",
       "      <th></th>\n",
       "      <th>account</th>\n",
       "      <th>company_short</th>\n",
       "      <th>account_id</th>\n",
       "      <th>account_name</th>\n",
       "      <th>account_id_name</th>\n",
       "    </tr>\n",
       "  </thead>\n",
       "  <tbody>\n",
       "    <tr>\n",
       "      <th>0</th>\n",
       "      <td>Yajie CAO</td>\n",
       "      <td>None</td>\n",
       "      <td>None</td>\n",
       "      <td>Yajie CAO</td>\n",
       "      <td>Yajie CAO</td>\n",
       "    </tr>\n",
       "    <tr>\n",
       "      <th>1</th>\n",
       "      <td>Wenlong ZHOU</td>\n",
       "      <td>None</td>\n",
       "      <td>None</td>\n",
       "      <td>Wenlong ZHOU</td>\n",
       "      <td>Wenlong ZHOU</td>\n",
       "    </tr>\n",
       "    <tr>\n",
       "      <th>2</th>\n",
       "      <td>SIMONE FERRARI</td>\n",
       "      <td>None</td>\n",
       "      <td>None</td>\n",
       "      <td>SIMONE FERRARI</td>\n",
       "      <td>SIMONE FERRARI</td>\n",
       "    </tr>\n",
       "    <tr>\n",
       "      <th>3</th>\n",
       "      <td>xinzhe</td>\n",
       "      <td>None</td>\n",
       "      <td>None</td>\n",
       "      <td>xinzhe</td>\n",
       "      <td>xinzhe</td>\n",
       "    </tr>\n",
       "    <tr>\n",
       "      <th>4</th>\n",
       "      <td>ADL-BPE-006-SUHAGI DESAI</td>\n",
       "      <td>ADL-BPE</td>\n",
       "      <td>006</td>\n",
       "      <td>SUHAGI DESAI</td>\n",
       "      <td>006-SUHAGI DESAI</td>\n",
       "    </tr>\n",
       "  </tbody>\n",
       "</table>\n",
       "</div>"
      ],
      "text/plain": [
       "                    account company_short account_id    account_name  \\\n",
       "0                 Yajie CAO          None       None       Yajie CAO   \n",
       "1              Wenlong ZHOU          None       None    Wenlong ZHOU   \n",
       "2            SIMONE FERRARI          None       None  SIMONE FERRARI   \n",
       "3                    xinzhe          None       None          xinzhe   \n",
       "4  ADL-BPE-006-SUHAGI DESAI       ADL-BPE        006    SUHAGI DESAI   \n",
       "\n",
       "    account_id_name  \n",
       "0         Yajie CAO  \n",
       "1      Wenlong ZHOU  \n",
       "2    SIMONE FERRARI  \n",
       "3            xinzhe  \n",
       "4  006-SUHAGI DESAI  "
      ]
     },
     "execution_count": 355,
     "metadata": {},
     "output_type": "execute_result"
    }
   ],
   "source": [
    "name_sheet.head()"
   ]
  },
  {
   "cell_type": "code",
   "execution_count": 356,
   "metadata": {},
   "outputs": [
    {
     "data": {
      "text/html": [
       "<div>\n",
       "<style scoped>\n",
       "    .dataframe tbody tr th:only-of-type {\n",
       "        vertical-align: middle;\n",
       "    }\n",
       "\n",
       "    .dataframe tbody tr th {\n",
       "        vertical-align: top;\n",
       "    }\n",
       "\n",
       "    .dataframe thead th {\n",
       "        text-align: right;\n",
       "    }\n",
       "</style>\n",
       "<table border=\"1\" class=\"dataframe\">\n",
       "  <thead>\n",
       "    <tr style=\"text-align: right;\">\n",
       "      <th></th>\n",
       "      <th>Driver's name</th>\n",
       "      <th>总数</th>\n",
       "      <th>company_short</th>\n",
       "      <th>account_id</th>\n",
       "      <th>account_name</th>\n",
       "      <th>account_id_name</th>\n",
       "    </tr>\n",
       "  </thead>\n",
       "  <tbody>\n",
       "    <tr>\n",
       "      <th>0</th>\n",
       "      <td>ADL-BPE-006-SUHAGI DESAI</td>\n",
       "      <td>275</td>\n",
       "      <td>ADL-BPE</td>\n",
       "      <td>006</td>\n",
       "      <td>SUHAGI DESAI</td>\n",
       "      <td>006-SUHAGI DESAI</td>\n",
       "    </tr>\n",
       "    <tr>\n",
       "      <th>1</th>\n",
       "      <td>ADL-BPE-016-YASHKUMAR A RAVAL</td>\n",
       "      <td>51</td>\n",
       "      <td>ADL-BPE</td>\n",
       "      <td>016</td>\n",
       "      <td>YASHKUMAR A RAVAL</td>\n",
       "      <td>016-YASHKUMAR A RAVAL</td>\n",
       "    </tr>\n",
       "  </tbody>\n",
       "</table>\n",
       "</div>"
      ],
      "text/plain": [
       "                   Driver's name   总数 company_short account_id  \\\n",
       "0       ADL-BPE-006-SUHAGI DESAI  275       ADL-BPE        006   \n",
       "1  ADL-BPE-016-YASHKUMAR A RAVAL   51       ADL-BPE        016   \n",
       "\n",
       "        account_name        account_id_name  \n",
       "0       SUHAGI DESAI       006-SUHAGI DESAI  \n",
       "1  YASHKUMAR A RAVAL  016-YASHKUMAR A RAVAL  "
      ]
     },
     "execution_count": 356,
     "metadata": {},
     "output_type": "execute_result"
    }
   ],
   "source": [
    "per_person_sum.head()"
   ]
  },
  {
   "cell_type": "code",
   "execution_count": 357,
   "metadata": {},
   "outputs": [
    {
     "data": {
      "text/html": [
       "<div>\n",
       "<style scoped>\n",
       "    .dataframe tbody tr th:only-of-type {\n",
       "        vertical-align: middle;\n",
       "    }\n",
       "\n",
       "    .dataframe tbody tr th {\n",
       "        vertical-align: top;\n",
       "    }\n",
       "\n",
       "    .dataframe thead th {\n",
       "        text-align: right;\n",
       "    }\n",
       "</style>\n",
       "<table border=\"1\" class=\"dataframe\">\n",
       "  <thead>\n",
       "    <tr style=\"text-align: right;\">\n",
       "      <th></th>\n",
       "      <th>Driver's name</th>\n",
       "      <th>总数</th>\n",
       "      <th>company_short</th>\n",
       "      <th>account_id</th>\n",
       "      <th>account_name</th>\n",
       "      <th>account_id_name</th>\n",
       "    </tr>\n",
       "  </thead>\n",
       "  <tbody>\n",
       "  </tbody>\n",
       "</table>\n",
       "</div>"
      ],
      "text/plain": [
       "Empty DataFrame\n",
       "Columns: [Driver's name, 总数, company_short, account_id, account_name, account_id_name]\n",
       "Index: []"
      ]
     },
     "execution_count": 357,
     "metadata": {},
     "output_type": "execute_result"
    }
   ],
   "source": [
    "per_person_sum[per_person_sum['account_name'].str.lower()=='bimarsha kandel'].head()"
   ]
  },
  {
   "cell_type": "code",
   "execution_count": 358,
   "metadata": {},
   "outputs": [
    {
     "data": {
      "text/plain": [
       "326"
      ]
     },
     "execution_count": 358,
     "metadata": {},
     "output_type": "execute_result"
    }
   ],
   "source": [
    "per_person_sum['总数'].sum()"
   ]
  },
  {
   "cell_type": "code",
   "execution_count": 359,
   "metadata": {},
   "outputs": [
    {
     "data": {
      "text/plain": [
       "(105, 11)"
      ]
     },
     "execution_count": 359,
     "metadata": {},
     "output_type": "execute_result"
    }
   ],
   "source": [
    "name_join_sheet.shape"
   ]
  },
  {
   "cell_type": "code",
   "execution_count": 360,
   "metadata": {},
   "outputs": [],
   "source": [
    "name_join_sheet = pd.merge(name_sheet, per_person_sum, left_on=dedup_key, right_on=dedup_key, how='left', suffixes=('_obs', ''), sort=False)\n",
    "name_join_sheet.fillna(0, inplace=True)\n",
    "name_join_sheet['总数'] = name_join_sheet['总数'].astype(int) # 将总数列转换为整数\n",
    "# name_sheet = name_sheet.to_json(orient='records')\n",
    "# name_sheet = json.loads(name_sheet)"
   ]
  },
  {
   "cell_type": "code",
   "execution_count": 361,
   "metadata": {},
   "outputs": [
    {
     "data": {
      "text/plain": [
       "326"
      ]
     },
     "execution_count": 361,
     "metadata": {},
     "output_type": "execute_result"
    }
   ],
   "source": [
    "name_join_sheet['总数'].sum()"
   ]
  },
  {
   "cell_type": "code",
   "execution_count": 362,
   "metadata": {},
   "outputs": [
    {
     "data": {
      "text/plain": [
       "13"
      ]
     },
     "execution_count": 362,
     "metadata": {},
     "output_type": "execute_result"
    }
   ],
   "source": [
    "len(name_join_sheet['account_name'].unique())\n"
   ]
  },
  {
   "cell_type": "code",
   "execution_count": 363,
   "metadata": {},
   "outputs": [
    {
     "data": {
      "text/html": [
       "<div>\n",
       "<style scoped>\n",
       "    .dataframe tbody tr th:only-of-type {\n",
       "        vertical-align: middle;\n",
       "    }\n",
       "\n",
       "    .dataframe tbody tr th {\n",
       "        vertical-align: top;\n",
       "    }\n",
       "\n",
       "    .dataframe thead th {\n",
       "        text-align: right;\n",
       "    }\n",
       "</style>\n",
       "<table border=\"1\" class=\"dataframe\">\n",
       "  <thead>\n",
       "    <tr style=\"text-align: right;\">\n",
       "      <th></th>\n",
       "      <th>account</th>\n",
       "      <th>company_short_obs</th>\n",
       "      <th>account_id_obs</th>\n",
       "      <th>account_name</th>\n",
       "      <th>account_id_name_obs</th>\n",
       "      <th>Driver's name</th>\n",
       "      <th>总数</th>\n",
       "      <th>company_short</th>\n",
       "      <th>account_id</th>\n",
       "      <th>account_id_name</th>\n",
       "    </tr>\n",
       "  </thead>\n",
       "  <tbody>\n",
       "    <tr>\n",
       "      <th>0</th>\n",
       "      <td>Yajie CAO</td>\n",
       "      <td>0</td>\n",
       "      <td>0</td>\n",
       "      <td>Yajie CAO</td>\n",
       "      <td>Yajie CAO</td>\n",
       "      <td>0</td>\n",
       "      <td>0</td>\n",
       "      <td>0</td>\n",
       "      <td>0</td>\n",
       "      <td>0</td>\n",
       "    </tr>\n",
       "    <tr>\n",
       "      <th>1</th>\n",
       "      <td>Wenlong ZHOU</td>\n",
       "      <td>0</td>\n",
       "      <td>0</td>\n",
       "      <td>Wenlong ZHOU</td>\n",
       "      <td>Wenlong ZHOU</td>\n",
       "      <td>0</td>\n",
       "      <td>0</td>\n",
       "      <td>0</td>\n",
       "      <td>0</td>\n",
       "      <td>0</td>\n",
       "    </tr>\n",
       "    <tr>\n",
       "      <th>2</th>\n",
       "      <td>SIMONE FERRARI</td>\n",
       "      <td>0</td>\n",
       "      <td>0</td>\n",
       "      <td>SIMONE FERRARI</td>\n",
       "      <td>SIMONE FERRARI</td>\n",
       "      <td>0</td>\n",
       "      <td>0</td>\n",
       "      <td>0</td>\n",
       "      <td>0</td>\n",
       "      <td>0</td>\n",
       "    </tr>\n",
       "    <tr>\n",
       "      <th>3</th>\n",
       "      <td>xinzhe</td>\n",
       "      <td>0</td>\n",
       "      <td>0</td>\n",
       "      <td>xinzhe</td>\n",
       "      <td>xinzhe</td>\n",
       "      <td>0</td>\n",
       "      <td>0</td>\n",
       "      <td>0</td>\n",
       "      <td>0</td>\n",
       "      <td>0</td>\n",
       "    </tr>\n",
       "    <tr>\n",
       "      <th>4</th>\n",
       "      <td>ADL-BPE-006-SUHAGI DESAI</td>\n",
       "      <td>ADL-BPE</td>\n",
       "      <td>006</td>\n",
       "      <td>SUHAGI DESAI</td>\n",
       "      <td>006-SUHAGI DESAI</td>\n",
       "      <td>ADL-BPE-006-SUHAGI DESAI</td>\n",
       "      <td>275</td>\n",
       "      <td>ADL-BPE</td>\n",
       "      <td>006</td>\n",
       "      <td>006-SUHAGI DESAI</td>\n",
       "    </tr>\n",
       "  </tbody>\n",
       "</table>\n",
       "</div>"
      ],
      "text/plain": [
       "                    account company_short_obs account_id_obs    account_name  \\\n",
       "0                 Yajie CAO                 0              0       Yajie CAO   \n",
       "1              Wenlong ZHOU                 0              0    Wenlong ZHOU   \n",
       "2            SIMONE FERRARI                 0              0  SIMONE FERRARI   \n",
       "3                    xinzhe                 0              0          xinzhe   \n",
       "4  ADL-BPE-006-SUHAGI DESAI           ADL-BPE            006    SUHAGI DESAI   \n",
       "\n",
       "  account_id_name_obs             Driver's name   总数 company_short account_id  \\\n",
       "0           Yajie CAO                         0    0             0          0   \n",
       "1        Wenlong ZHOU                         0    0             0          0   \n",
       "2      SIMONE FERRARI                         0    0             0          0   \n",
       "3              xinzhe                         0    0             0          0   \n",
       "4    006-SUHAGI DESAI  ADL-BPE-006-SUHAGI DESAI  275       ADL-BPE        006   \n",
       "\n",
       "    account_id_name  \n",
       "0                 0  \n",
       "1                 0  \n",
       "2                 0  \n",
       "3                 0  \n",
       "4  006-SUHAGI DESAI  "
      ]
     },
     "execution_count": 363,
     "metadata": {},
     "output_type": "execute_result"
    }
   ],
   "source": [
    "name_join_sheet.head()"
   ]
  },
  {
   "cell_type": "code",
   "execution_count": 364,
   "metadata": {},
   "outputs": [
    {
     "name": "stdout",
     "output_type": "stream",
     "text": [
      "总数匹配: 326 == 326\n"
     ]
    }
   ],
   "source": [
    "if name_join_sheet['总数'].sum() != summary_sheet.sum()//2:\n",
    "    print(f\"总数不匹配: {name_join_sheet['总数'].sum()} != {summary_sheet.sum()//2}\")\n",
    "else:\n",
    "    print(f\"总数匹配: {name_join_sheet['总数'].sum()} == {summary_sheet.sum()//2}\")\n"
   ]
  },
  {
   "cell_type": "code",
   "execution_count": 365,
   "metadata": {},
   "outputs": [],
   "source": [
    "# import tkinter as tk\n",
    "# from tkinter import messagebox\n",
    "# import win32gui\n",
    "# import win32con\n",
    "\n",
    "# # 数据校验\n",
    "# total_deliveries = name_sheet['总数'].sum()\n",
    "# total_summary = summary_sheet.sum()//2\n",
    "\n",
    "# if total_deliveries != total_summary:\n",
    "#     # 创建弹窗\n",
    "#     root = tk.Tk()\n",
    "#     # root.withdraw()  # 隐藏主窗口\n",
    "    \n",
    "#     # 显示错误消息\n",
    "#     error_dialog = messagebox.showerror(\n",
    "#         \"数据校验错误\",\n",
    "#         f\"数据不匹配！\\n\\n\"\n",
    "#         f\"派送员总数: {total_deliveries}\\n\"\n",
    "#         f\"汇总表总数: {total_summary}\\n\"\n",
    "#         f\"差异数量: {abs(total_deliveries - total_summary)}\\n\\n\"\n",
    "#         f\"请检查以下可能的原因：\\n\"\n",
    "#         f\"1. 是否有派送员数据未正确统计\\n\"\n",
    "#         f\"2. 是否有重复计算的情况\\n\"\n",
    "#         f\"3. 是否有数据丢失\"\n",
    "#     )\n",
    "    \n",
    "#     # 获取错误对话框的句柄并设置为最顶层\n",
    "#     hwnd = win32gui.GetForegroundWindow()\n",
    "#     win32gui.SetWindowPos(hwnd, win32con.HWND_TOPMOST, 0, 0, 0, 0, \n",
    "#                          win32con.SWP_NOMOVE | win32con.SWP_NOSIZE)\n",
    "    \n",
    "#     # 询问是否继续\n",
    "#     confirm_dialog = messagebox.askyesno(\"确认\", \"是否继续处理？\")\n",
    "    \n",
    "#     # # 获取确认对话框的句柄并设置为最顶层\n",
    "#     # hwnd = win32gui.GetForegroundWindow()\n",
    "#     # win32gui.SetWindowPos(hwnd, win32con.HWND_TOPMOST, 0, 0, 0, 0, \n",
    "#     #                      win32con.SWP_NOMOVE | win32con.SWP_NOSIZE)\n",
    "    \n",
    "#     if not confirm_dialog:\n",
    "#         raise ValueError(\"用户取消处理\")\n",
    "    \n",
    "#     root.destroy()  # 关闭窗口\n",
    "# else:\n",
    "#     print(f\"✅ 数据校验通过！总数匹配: {total_deliveries} == {total_summary}\")"
   ]
  },
  {
   "cell_type": "code",
   "execution_count": 366,
   "metadata": {},
   "outputs": [],
   "source": [
    "# print(counts.to_json(force_ascii=False))\n",
    "# signed_time_key = None\n",
    "# receiver_key = None\n",
    "# fee_key = None\n",
    "raw_sheet[signed_time_key] = raw_sheet[signed_time_key].apply(lambda x: str(x)[:10])\n",
    "counts = raw_sheet.groupby([receiver_key, signed_time_key, fee_key]).size().reset_index(name='记录数')"
   ]
  },
  {
   "cell_type": "code",
   "execution_count": 367,
   "metadata": {},
   "outputs": [],
   "source": [
    "# 转换为嵌套 JSON\n",
    "nested_json = (\n",
    "    counts.reset_index()  # 将 MultiIndex 转为普通列\n",
    "    .groupby(receiver_key)  # 按收派员名字分组\n",
    "    .apply(lambda x: x.groupby(signed_time_key)  # 在组内按签收时间分组\n",
    "           .apply(lambda y: y.set_index(fee_key)['记录数'].to_dict())  # 将计费和对应数量转为字典\n",
    "           .to_dict())  # 将签收时间分组转为字典\n",
    "    .to_dict()  # 将收派员编号分组转为字典\n",
    ")"
   ]
  },
  {
   "cell_type": "code",
   "execution_count": 368,
   "metadata": {},
   "outputs": [],
   "source": [
    "name_join_sheet['data'] = name_join_sheet['account'].apply(lambda x: nested_json.get(x, {}))"
   ]
  },
  {
   "cell_type": "code",
   "execution_count": 369,
   "metadata": {},
   "outputs": [],
   "source": [
    "# columns = [\"序号\", \"编号\", \"ACCOUNT\"]\n",
    "columns = [\"序号\", \"ACCOUNT\"]\n",
    "sub_columns = [\"\"] * len(columns)\n",
    "# 定义表头\n",
    "for d in dates:\n",
    "    columns.append(d)\n",
    "    columns.extend([\"\"] * (len(fees) - 1))\n",
    "\n",
    "    sub_columns.extend(fees)\n",
    "\n",
    "columns.append(\"Total\")\n",
    "sub_columns.append(\"\")\n",
    "# 创建多级表头\n",
    "header = pd.MultiIndex.from_tuples(list(zip(columns, sub_columns)))"
   ]
  },
  {
   "cell_type": "code",
   "execution_count": 370,
   "metadata": {},
   "outputs": [
    {
     "data": {
      "text/html": [
       "<div>\n",
       "<style scoped>\n",
       "    .dataframe tbody tr th:only-of-type {\n",
       "        vertical-align: middle;\n",
       "    }\n",
       "\n",
       "    .dataframe tbody tr th {\n",
       "        vertical-align: top;\n",
       "    }\n",
       "\n",
       "    .dataframe thead th {\n",
       "        text-align: right;\n",
       "    }\n",
       "</style>\n",
       "<table border=\"1\" class=\"dataframe\">\n",
       "  <thead>\n",
       "    <tr style=\"text-align: right;\">\n",
       "      <th></th>\n",
       "      <th>account</th>\n",
       "      <th>company_short_obs</th>\n",
       "      <th>account_id_obs</th>\n",
       "      <th>account_name</th>\n",
       "      <th>account_id_name_obs</th>\n",
       "      <th>Driver's name</th>\n",
       "      <th>总数</th>\n",
       "      <th>company_short</th>\n",
       "      <th>account_id</th>\n",
       "      <th>account_id_name</th>\n",
       "      <th>data</th>\n",
       "    </tr>\n",
       "  </thead>\n",
       "  <tbody>\n",
       "    <tr>\n",
       "      <th>0</th>\n",
       "      <td>Yajie CAO</td>\n",
       "      <td>0</td>\n",
       "      <td>0</td>\n",
       "      <td>Yajie CAO</td>\n",
       "      <td>Yajie CAO</td>\n",
       "      <td>0</td>\n",
       "      <td>0</td>\n",
       "      <td>0</td>\n",
       "      <td>0</td>\n",
       "      <td>0</td>\n",
       "      <td>{}</td>\n",
       "    </tr>\n",
       "    <tr>\n",
       "      <th>1</th>\n",
       "      <td>Wenlong ZHOU</td>\n",
       "      <td>0</td>\n",
       "      <td>0</td>\n",
       "      <td>Wenlong ZHOU</td>\n",
       "      <td>Wenlong ZHOU</td>\n",
       "      <td>0</td>\n",
       "      <td>0</td>\n",
       "      <td>0</td>\n",
       "      <td>0</td>\n",
       "      <td>0</td>\n",
       "      <td>{}</td>\n",
       "    </tr>\n",
       "    <tr>\n",
       "      <th>2</th>\n",
       "      <td>SIMONE FERRARI</td>\n",
       "      <td>0</td>\n",
       "      <td>0</td>\n",
       "      <td>SIMONE FERRARI</td>\n",
       "      <td>SIMONE FERRARI</td>\n",
       "      <td>0</td>\n",
       "      <td>0</td>\n",
       "      <td>0</td>\n",
       "      <td>0</td>\n",
       "      <td>0</td>\n",
       "      <td>{}</td>\n",
       "    </tr>\n",
       "    <tr>\n",
       "      <th>3</th>\n",
       "      <td>xinzhe</td>\n",
       "      <td>0</td>\n",
       "      <td>0</td>\n",
       "      <td>xinzhe</td>\n",
       "      <td>xinzhe</td>\n",
       "      <td>0</td>\n",
       "      <td>0</td>\n",
       "      <td>0</td>\n",
       "      <td>0</td>\n",
       "      <td>0</td>\n",
       "      <td>{}</td>\n",
       "    </tr>\n",
       "    <tr>\n",
       "      <th>4</th>\n",
       "      <td>ADL-BPE-006-SUHAGI DESAI</td>\n",
       "      <td>ADL-BPE</td>\n",
       "      <td>006</td>\n",
       "      <td>SUHAGI DESAI</td>\n",
       "      <td>006-SUHAGI DESAI</td>\n",
       "      <td>ADL-BPE-006-SUHAGI DESAI</td>\n",
       "      <td>275</td>\n",
       "      <td>ADL-BPE</td>\n",
       "      <td>006</td>\n",
       "      <td>006-SUHAGI DESAI</td>\n",
       "      <td>{'2025-04-09': {2.2: 97}, '2025-04-11': {2.2: ...</td>\n",
       "    </tr>\n",
       "  </tbody>\n",
       "</table>\n",
       "</div>"
      ],
      "text/plain": [
       "                    account company_short_obs account_id_obs    account_name  \\\n",
       "0                 Yajie CAO                 0              0       Yajie CAO   \n",
       "1              Wenlong ZHOU                 0              0    Wenlong ZHOU   \n",
       "2            SIMONE FERRARI                 0              0  SIMONE FERRARI   \n",
       "3                    xinzhe                 0              0          xinzhe   \n",
       "4  ADL-BPE-006-SUHAGI DESAI           ADL-BPE            006    SUHAGI DESAI   \n",
       "\n",
       "  account_id_name_obs             Driver's name   总数 company_short account_id  \\\n",
       "0           Yajie CAO                         0    0             0          0   \n",
       "1        Wenlong ZHOU                         0    0             0          0   \n",
       "2      SIMONE FERRARI                         0    0             0          0   \n",
       "3              xinzhe                         0    0             0          0   \n",
       "4    006-SUHAGI DESAI  ADL-BPE-006-SUHAGI DESAI  275       ADL-BPE        006   \n",
       "\n",
       "    account_id_name                                               data  \n",
       "0                 0                                                 {}  \n",
       "1                 0                                                 {}  \n",
       "2                 0                                                 {}  \n",
       "3                 0                                                 {}  \n",
       "4  006-SUHAGI DESAI  {'2025-04-09': {2.2: 97}, '2025-04-11': {2.2: ...  "
      ]
     },
     "execution_count": 370,
     "metadata": {},
     "output_type": "execute_result"
    }
   ],
   "source": [
    "name_join_sheet.head()"
   ]
  },
  {
   "cell_type": "code",
   "execution_count": 371,
   "metadata": {},
   "outputs": [],
   "source": [
    "full_data = []\n",
    "\n",
    "for idx, person in name_join_sheet.iterrows():\n",
    "    data = [idx+1, person['account']]\n",
    "    for d in dates:\n",
    "        if d in person['data']:\n",
    "            for f in fees:\n",
    "                if f in person['data'][d]:\n",
    "                    data.append(person['data'][d].get(f, \"\"))\n",
    "                else:\n",
    "                    data.append(\"\")\n",
    "        else:\n",
    "            data.extend([\"\"] * len(fees))\n",
    "    data.append(person['总数'])\n",
    "    full_data.append(data)"
   ]
  },
  {
   "cell_type": "code",
   "execution_count": 372,
   "metadata": {},
   "outputs": [
    {
     "data": {
      "text/plain": [
       "0"
      ]
     },
     "execution_count": 372,
     "metadata": {},
     "output_type": "execute_result"
    }
   ],
   "source": [
    "person['总数']"
   ]
  },
  {
   "cell_type": "code",
   "execution_count": 373,
   "metadata": {},
   "outputs": [],
   "source": [
    "# 添加汇总行\n",
    "total_row = [\"Total\", \"总计\"]\n",
    "total_by_date_fee = {}  # 用于存储每个日期和费用类型的总和\n",
    "\n",
    "# 初始化汇总数据结构\n",
    "for d in dates:\n",
    "    total_by_date_fee[d] = {f: 0 for f in fees}\n",
    "\n",
    "# 计算每个日期和费用类型的总和\n",
    "for person in name_join_sheet.itertuples():\n",
    "    for d in dates:\n",
    "        if hasattr(person, 'data') and d in person.data:\n",
    "            for f in fees:\n",
    "                if f in person.data[d]:\n",
    "                    total_by_date_fee[d][f] += person.data[d][f]\n",
    "\n",
    "# 构建汇总行数据\n",
    "for d in dates:\n",
    "    for f in fees:\n",
    "        total_row.append(total_by_date_fee[d][f])\n",
    "\n",
    "# 添加总计数量\n",
    "total_row.append(name_join_sheet['总数'].sum())\n",
    "\n",
    "# 将汇总行添加到full_data\n",
    "full_data.append(total_row)"
   ]
  },
  {
   "cell_type": "code",
   "execution_count": 374,
   "metadata": {},
   "outputs": [],
   "source": [
    "# 创建 DataFrame\n",
    "df = pd.DataFrame(full_data, columns=header)"
   ]
  },
  {
   "cell_type": "code",
   "execution_count": 375,
   "metadata": {},
   "outputs": [
    {
     "name": "stdout",
     "output_type": "stream",
     "text": [
      "文件已保存至 output\\ADL\\2025-04-09_2025-04-11/per_person_details.xlsx\n"
     ]
    }
   ],
   "source": [
    "from openpyxl import load_workbook\n",
    "\n",
    "df.to_excel(f\"{project_cache_path}/output.xlsx\", index=True)\n",
    "# 加载并移除空行\n",
    "wb = load_workbook(f\"{project_cache_path}/output.xlsx\")\n",
    "ws = wb.active\n",
    "\n",
    "# 删除空行（通常是第3行）\n",
    "ws.delete_rows(3)\n",
    "# ws.delete_cols(0)\n",
    "\n",
    "# 保存调整后的文件\n",
    "wb.save(f\"{project_path}/per_person_details.xlsx\")\n",
    "print(f\"文件已保存至 {project_path}/per_person_details.xlsx\")\n",
    "wb.close()"
   ]
  }
 ],
 "metadata": {
  "kernelspec": {
   "display_name": "py311",
   "language": "python",
   "name": "python3"
  },
  "language_info": {
   "codemirror_mode": {
    "name": "ipython",
    "version": 3
   },
   "file_extension": ".py",
   "mimetype": "text/x-python",
   "name": "python",
   "nbconvert_exporter": "python",
   "pygments_lexer": "ipython3",
   "version": "3.11.8"
  }
 },
 "nbformat": 4,
 "nbformat_minor": 2
}
