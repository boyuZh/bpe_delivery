{
 "cells": [
  {
   "cell_type": "code",
   "execution_count": 1,
   "metadata": {},
   "outputs": [],
   "source": [
    "import pandas as pd\n",
    "import json\n",
    "import os\n",
    "import numpy as np"
   ]
  },
  {
   "cell_type": "code",
   "execution_count": 2,
   "metadata": {},
   "outputs": [],
   "source": [
    "# name_sheet = pd.read_csv('data/name_sheet2.csv')\n",
    "city_name = input(\"请输入城市名称 (例如: SYD): \").upper()\n",
    "if city_name.upper() == \"SYD\":\n",
    "    name_sheet_path = 'data/name_sheet_syd.csv'\n",
    "elif city_name.upper() == \"ADL\":\n",
    "    name_sheet_path = 'data/name_sheet_ade.csv'\n",
    "elif city_name.upper() == \"BNE\":\n",
    "    name_sheet_path = 'data/name_sheet_bne.csv'\n",
    "else:\n",
    "    print(f\"未找到城市 {city_name} 对应的name_sheet文件，将使用默认文件\")\n",
    "    name_sheet_path = 'data/name_sheet2.csv'"
   ]
  },
  {
   "cell_type": "code",
   "execution_count": 50,
   "metadata": {},
   "outputs": [],
   "source": [
    "name_sheet = pd.read_csv(name_sheet_path)"
   ]
  },
  {
   "cell_type": "code",
   "execution_count": 4,
   "metadata": {},
   "outputs": [],
   "source": [
    "file_path = r\"output\\BPE.xlsx\"\n",
    "\n",
    "# # 从文件名中提取城市名称\n",
    "# file_city = file_path.split(\"\\\\\")[-1].split(\" \")[1]  # 提取文件名中的城市名称\n",
    "\n",
    "# # 校验城市名称是否匹配\n",
    "# if file_city.upper() != city_name.upper():\n",
    "#     print(f\"警告：文件名中的城市名称({file_city})与输入的城市名称({city_name})不匹配！\")\n",
    "#     user_input = input(\"是否继续处理？(y/n): \")\n",
    "#     if user_input.lower() != 'y':\n",
    "#         raise ValueError(\"用户取消处理\")"
   ]
  },
  {
   "cell_type": "code",
   "execution_count": 5,
   "metadata": {},
   "outputs": [],
   "source": [
    "raw_sheet = pd.read_excel(file_path, sheet_name=city_name)"
   ]
  },
  {
   "cell_type": "code",
   "execution_count": 6,
   "metadata": {},
   "outputs": [
    {
     "data": {
      "text/plain": [
       "Index(['签收时间\\nDelivery Time', '运单号\\nTracking Number', '收派员\\nDriver',\n",
       "       '收派员类型\\n \\nDA Type', '收派员所属供应商\\nDriver's Supplier',\n",
       "       '签收网点\\nDelivered Station\\nDelivered Station',\n",
       "       '商家上传重量\\nVendor Uploaded Weight', '路由码\\nRoute Code', '邮编\\nPostcode',\n",
       "       '收件城市\\nCity', '计费\\nCharges'],\n",
       "      dtype='object')"
      ]
     },
     "execution_count": 6,
     "metadata": {},
     "output_type": "execute_result"
    }
   ],
   "source": [
    "raw_sheet.keys()"
   ]
  },
  {
   "cell_type": "code",
   "execution_count": 7,
   "metadata": {},
   "outputs": [
    {
     "name": "stdout",
     "output_type": "stream",
     "text": [
      "寻找到的key: \n",
      "\n",
      "      收派员所属供应商： 收派员所属供应商\n",
      "Driver's Supplier, \n",
      "\n",
      "      签收时间： 签收时间\n",
      "Delivery Time, \n",
      "\n",
      "      收派员： 收派员\n",
      "Driver, \n",
      "\n",
      "      计费： 计费\n",
      "Charges\n"
     ]
    }
   ],
   "source": [
    "supplier_key = None\n",
    "signed_time_key = None\n",
    "receiver_key = None\n",
    "fee_key = None\n",
    "for key in raw_sheet.keys():\n",
    "    if \"收派员所属供应商\" in key:\n",
    "        supplier_key = key\n",
    "    if \"签收时间\" in key:\n",
    "        signed_time_key = key\n",
    "    if \"收派员\" in key and \"driver\" in key.lower() and \"供应商\" not in key:\n",
    "        receiver_key = key\n",
    "    if \"计费\" in key:\n",
    "        fee_key = key\n",
    "print(f\"\"\"寻找到的key: \\n\n",
    "      收派员所属供应商： {supplier_key}, \\n\n",
    "      签收时间： {signed_time_key}, \\n\n",
    "      收派员： {receiver_key}, \\n\n",
    "      计费： {fee_key}\"\"\")"
   ]
  },
  {
   "cell_type": "code",
   "execution_count": 8,
   "metadata": {},
   "outputs": [],
   "source": [
    "# raw_sheet = raw_sheet[raw_sheet[supplier_key]==\"BIN POINT ENTREATMENT PTY LTD\"]"
   ]
  },
  {
   "cell_type": "code",
   "execution_count": 9,
   "metadata": {},
   "outputs": [],
   "source": [
    "raw_sheet = raw_sheet[[signed_time_key, receiver_key, fee_key]]"
   ]
  },
  {
   "cell_type": "code",
   "execution_count": 10,
   "metadata": {},
   "outputs": [],
   "source": [
    "dates = raw_sheet[signed_time_key].unique()\n",
    "dates = np.sort(dates)\n",
    "\n",
    "dates = [str(date)[:10] for date in dates]\n",
    "folder_name = \"_\".join([dates[0], dates[-1]])\n",
    "project_path = os.path.join(\"output\", city_name, folder_name)\n",
    "project_cache_path = os.path.join(project_path, \"cache\")\n",
    "os.makedirs(project_path, exist_ok=True)\n",
    "os.makedirs(project_cache_path, exist_ok=True)"
   ]
  },
  {
   "cell_type": "code",
   "execution_count": 11,
   "metadata": {},
   "outputs": [],
   "source": [
    "fees = raw_sheet[fee_key].unique()\n",
    "fees.sort()"
   ]
  },
  {
   "cell_type": "markdown",
   "metadata": {},
   "source": [
    "### 获取当周汇总数据"
   ]
  },
  {
   "cell_type": "code",
   "execution_count": 12,
   "metadata": {},
   "outputs": [
    {
     "data": {
      "text/plain": [
       "(37395, 3)"
      ]
     },
     "execution_count": 12,
     "metadata": {},
     "output_type": "execute_result"
    }
   ],
   "source": [
    "raw_sheet.shape"
   ]
  },
  {
   "cell_type": "code",
   "execution_count": 13,
   "metadata": {},
   "outputs": [],
   "source": [
    "summary_sheet = raw_sheet[fee_key].value_counts().sort_index()"
   ]
  },
  {
   "cell_type": "code",
   "execution_count": 14,
   "metadata": {},
   "outputs": [],
   "source": [
    "summary_sheet.name = '数量'\n",
    "\n",
    "new_data = pd.Series([summary_sheet.sum()], index=['Total'], name='数量')  # 新行数据\n",
    "summary_sheet = pd.concat([summary_sheet, new_data])  # 使用 pd.concat 添加新行\n",
    "summary_sheet.index.name = '单价'"
   ]
  },
  {
   "cell_type": "code",
   "execution_count": 15,
   "metadata": {},
   "outputs": [
    {
     "data": {
      "text/plain": [
       "单价\n",
       "2.2      36272\n",
       "3.0        930\n",
       "5.0        136\n",
       "8.0         57\n",
       "Total    37395\n",
       "Name: 数量, dtype: int64"
      ]
     },
     "execution_count": 15,
     "metadata": {},
     "output_type": "execute_result"
    }
   ],
   "source": [
    "summary_sheet.head(20)"
   ]
  },
  {
   "cell_type": "code",
   "execution_count": 16,
   "metadata": {},
   "outputs": [],
   "source": [
    "summary_sheet.to_csv(f'{project_path}/week_summary.csv')"
   ]
  },
  {
   "cell_type": "markdown",
   "metadata": {},
   "source": [
    "### 获取每位派送员派送详情"
   ]
  },
  {
   "cell_type": "code",
   "execution_count": 17,
   "metadata": {},
   "outputs": [],
   "source": [
    "per_person_sum = raw_sheet[receiver_key].value_counts()"
   ]
  },
  {
   "cell_type": "code",
   "execution_count": 18,
   "metadata": {},
   "outputs": [],
   "source": [
    "per_person_sum.name = '总数'"
   ]
  },
  {
   "cell_type": "code",
   "execution_count": 19,
   "metadata": {},
   "outputs": [],
   "source": [
    "per_person_sum = pd.DataFrame(per_person_sum)\n",
    "per_person_sum = per_person_sum.reset_index()"
   ]
  },
  {
   "cell_type": "code",
   "execution_count": 20,
   "metadata": {},
   "outputs": [],
   "source": [
    "import pandas as pd\n",
    "import re\n",
    "\n",
    "# 定义函数，提取公司简称、账号 ID 和账号名称\n",
    "def extract_account_info(account_str):\n",
    "    match = re.match(r\"^([A-Z]+(?:-[A-Z]+)*)-(\\w+)-(.+)$\", account_str)\n",
    "    if match:\n",
    "        company_short = match.group(1)\n",
    "        account_id = match.group(2)\n",
    "        account_name = match.group(3)\n",
    "        return company_short, account_id, account_name\n",
    "    return None, None, account_str  # 仅有姓名时，填充 None\n"
   ]
  },
  {
   "cell_type": "code",
   "execution_count": 21,
   "metadata": {},
   "outputs": [],
   "source": [
    "# per_person_sum['name_id'] = [\"-\".join(x.split(\"-\")[:2]) for x in per_person_sum.index.tolist()]\n",
    "per_person_sum[['company_short', 'account_id', 'account_name']] = per_person_sum[receiver_key].apply(lambda x: pd.Series(extract_account_info(x)))"
   ]
  },
  {
   "cell_type": "code",
   "execution_count": 22,
   "metadata": {},
   "outputs": [
    {
     "data": {
      "text/plain": [
       "69"
      ]
     },
     "execution_count": 22,
     "metadata": {},
     "output_type": "execute_result"
    }
   ],
   "source": [
    "len(per_person_sum.index.unique())"
   ]
  },
  {
   "cell_type": "code",
   "execution_count": 23,
   "metadata": {},
   "outputs": [
    {
     "data": {
      "text/html": [
       "<div>\n",
       "<style scoped>\n",
       "    .dataframe tbody tr th:only-of-type {\n",
       "        vertical-align: middle;\n",
       "    }\n",
       "\n",
       "    .dataframe tbody tr th {\n",
       "        vertical-align: top;\n",
       "    }\n",
       "\n",
       "    .dataframe thead th {\n",
       "        text-align: right;\n",
       "    }\n",
       "</style>\n",
       "<table border=\"1\" class=\"dataframe\">\n",
       "  <thead>\n",
       "    <tr style=\"text-align: right;\">\n",
       "      <th></th>\n",
       "      <th>收派员\\nDriver</th>\n",
       "      <th>总数</th>\n",
       "      <th>company_short</th>\n",
       "      <th>account_id</th>\n",
       "      <th>account_name</th>\n",
       "    </tr>\n",
       "  </thead>\n",
       "  <tbody>\n",
       "    <tr>\n",
       "      <th>0</th>\n",
       "      <td>BNE-BPE-5564-PATEL VED</td>\n",
       "      <td>1628</td>\n",
       "      <td>BNE-BPE</td>\n",
       "      <td>5564</td>\n",
       "      <td>PATEL VED</td>\n",
       "    </tr>\n",
       "    <tr>\n",
       "      <th>1</th>\n",
       "      <td>BNE-BPE-5588-ZHOU DIZHEN</td>\n",
       "      <td>1289</td>\n",
       "      <td>BNE-BPE</td>\n",
       "      <td>5588</td>\n",
       "      <td>ZHOU DIZHEN</td>\n",
       "    </tr>\n",
       "    <tr>\n",
       "      <th>2</th>\n",
       "      <td>BNE-BPE-5565-PATEL TAXAYKUMAR PRAVINBHAI</td>\n",
       "      <td>1251</td>\n",
       "      <td>BNE-BPE</td>\n",
       "      <td>5565</td>\n",
       "      <td>PATEL TAXAYKUMAR PRAVINBHAI</td>\n",
       "    </tr>\n",
       "    <tr>\n",
       "      <th>3</th>\n",
       "      <td>BNE-BPE-5546-DHARMIKKUMAR A PATEL</td>\n",
       "      <td>1212</td>\n",
       "      <td>BNE-BPE</td>\n",
       "      <td>5546</td>\n",
       "      <td>DHARMIKKUMAR A PATEL</td>\n",
       "    </tr>\n",
       "    <tr>\n",
       "      <th>4</th>\n",
       "      <td>BNE-BPE-7446-Man Lam</td>\n",
       "      <td>1205</td>\n",
       "      <td>BNE-BPE</td>\n",
       "      <td>7446</td>\n",
       "      <td>Man Lam</td>\n",
       "    </tr>\n",
       "  </tbody>\n",
       "</table>\n",
       "</div>"
      ],
      "text/plain": [
       "                                收派员\\nDriver    总数 company_short account_id  \\\n",
       "0                    BNE-BPE-5564-PATEL VED  1628       BNE-BPE       5564   \n",
       "1                  BNE-BPE-5588-ZHOU DIZHEN  1289       BNE-BPE       5588   \n",
       "2  BNE-BPE-5565-PATEL TAXAYKUMAR PRAVINBHAI  1251       BNE-BPE       5565   \n",
       "3         BNE-BPE-5546-DHARMIKKUMAR A PATEL  1212       BNE-BPE       5546   \n",
       "4                      BNE-BPE-7446-Man Lam  1205       BNE-BPE       7446   \n",
       "\n",
       "                  account_name  \n",
       "0                    PATEL VED  \n",
       "1                  ZHOU DIZHEN  \n",
       "2  PATEL TAXAYKUMAR PRAVINBHAI  \n",
       "3         DHARMIKKUMAR A PATEL  \n",
       "4                      Man Lam  "
      ]
     },
     "execution_count": 23,
     "metadata": {},
     "output_type": "execute_result"
    }
   ],
   "source": [
    "per_person_sum.head()"
   ]
  },
  {
   "cell_type": "code",
   "execution_count": 60,
   "metadata": {},
   "outputs": [],
   "source": [
    "# 找到新增的名字\n",
    "name_sheet[['company_short', 'account_id', 'account_name']] = name_sheet['account'].apply(lambda x: pd.Series(extract_account_info(x)))\n",
    "per_person_sum[\"account_id_name\"] = per_person_sum.apply(lambda row: \n",
    "    f\"{row['account_id']}-{row['account_name']}\".lower() if row[\"account_id\"] else row[\"account_name\"].lower(), axis=1)\n",
    "per_person_sum['account_name'] = per_person_sum['account_name'].apply(lambda x: x.strip().lower())\n",
    "\n",
    "name_sheet[\"account_id_name\"] = name_sheet.apply(lambda row: \n",
    "    f\"{row['account_id']}-{row['account_name']}\".lower() if row[\"account_id\"] else row[\"account_name\"].lower(), axis=1)\n",
    "\n",
    "name_sheet['account_name'] = name_sheet['account_name'].apply(lambda x: x.strip().lower())\n",
    "\n",
    "\n",
    "dedup_key = 'account_name'\n",
    "\n",
    "duplicate_mask = name_sheet.duplicated(subset=[dedup_key], keep=False)\n",
    "if duplicate_mask.any():\n",
    "    # 获取所有重复的记录\n",
    "    duplicates = name_sheet[duplicate_mask].copy()\n",
    "    \n",
    "    # 按account_id_name分组，对每组进行处理\n",
    "    for account_id_name, group in duplicates.groupby(dedup_key):\n",
    "        if len(group) > 1:  # 如果有重复记录\n",
    "            # 检查是否有BPE记录\n",
    "            bpe_record = group[group['company_short'] == 'BPE']\n",
    "            if not bpe_record.empty:\n",
    "                # 如果有BPE记录，删除其他记录\n",
    "                name_sheet = name_sheet[~((name_sheet[dedup_key] == account_id_name) & \n",
    "                                        (name_sheet['company_short'] != 'BPE'))]\n",
    "            else:\n",
    "                # 如果没有BPE记录，保留第一条记录\n",
    "                name_sheet = name_sheet[~((name_sheet[dedup_key] == account_id_name) & \n",
    "                                        (name_sheet.index != group.index[0]))]\n",
    "\n",
    "\n",
    "new_names_id = set(per_person_sum[dedup_key].tolist()) - set(name_sheet[dedup_key].tolist())\n",
    "new_names_id = list(new_names_id)\n",
    "\n"
   ]
  },
  {
   "cell_type": "code",
   "execution_count": 62,
   "metadata": {},
   "outputs": [],
   "source": [
    "# 添加到name_sheet\n",
    "if new_names_id:  # only proceed if there are new names\n",
    "    new_names = []\n",
    "    for name_id in new_names_id:\n",
    "        # Get the full name from per_person_sum DataFrame\n",
    "        new_person_record = per_person_sum[per_person_sum[dedup_key]==name_id]\n",
    "        company_short, account_id, account_name = extract_account_info(new_person_record[receiver_key].values[0])\n",
    "        new_names.append({\n",
    "            'account': new_person_record[receiver_key].values[0],\n",
    "            'company_short': company_short,\n",
    "            'account_id': account_id,\n",
    "            'account_name': account_name\n",
    "        })\n",
    "    \n",
    "    new_name_sheet = pd.DataFrame(new_names)\n",
    "    name_sheet = pd.concat([name_sheet, new_name_sheet], ignore_index=True)"
   ]
  },
  {
   "cell_type": "code",
   "execution_count": 63,
   "metadata": {},
   "outputs": [],
   "source": [
    "name_sheet['account'].drop_duplicates().to_csv(name_sheet_path, index=False)"
   ]
  },
  {
   "cell_type": "code",
   "execution_count": 64,
   "metadata": {},
   "outputs": [
    {
     "data": {
      "text/html": [
       "<div>\n",
       "<style scoped>\n",
       "    .dataframe tbody tr th:only-of-type {\n",
       "        vertical-align: middle;\n",
       "    }\n",
       "\n",
       "    .dataframe tbody tr th {\n",
       "        vertical-align: top;\n",
       "    }\n",
       "\n",
       "    .dataframe thead th {\n",
       "        text-align: right;\n",
       "    }\n",
       "</style>\n",
       "<table border=\"1\" class=\"dataframe\">\n",
       "  <thead>\n",
       "    <tr style=\"text-align: right;\">\n",
       "      <th></th>\n",
       "      <th>account</th>\n",
       "      <th>company_short</th>\n",
       "      <th>account_id</th>\n",
       "      <th>account_name</th>\n",
       "      <th>account_id_name</th>\n",
       "    </tr>\n",
       "  </thead>\n",
       "  <tbody>\n",
       "    <tr>\n",
       "      <th>0</th>\n",
       "      <td>BNE-BPE-5544-Dharmik Sureshbhai PATEL</td>\n",
       "      <td>BNE-BPE</td>\n",
       "      <td>5544</td>\n",
       "      <td>dharmik sureshbhai patel</td>\n",
       "      <td>5544-dharmik sureshbhai patel</td>\n",
       "    </tr>\n",
       "    <tr>\n",
       "      <th>1</th>\n",
       "      <td>BNE-BPE-5500-Dipak BUDHATHOKI</td>\n",
       "      <td>BNE-BPE</td>\n",
       "      <td>5500</td>\n",
       "      <td>dipak budhathoki</td>\n",
       "      <td>5500-dipak budhathoki</td>\n",
       "    </tr>\n",
       "    <tr>\n",
       "      <th>2</th>\n",
       "      <td>BNE-BPE-5501-BILAL MUHAMMAD</td>\n",
       "      <td>BNE-BPE</td>\n",
       "      <td>5501</td>\n",
       "      <td>bilal muhammad</td>\n",
       "      <td>5501-bilal muhammad</td>\n",
       "    </tr>\n",
       "    <tr>\n",
       "      <th>3</th>\n",
       "      <td>BNE-BPE-5502-Bikalpa DAWADI</td>\n",
       "      <td>BNE-BPE</td>\n",
       "      <td>5502</td>\n",
       "      <td>bikalpa dawadi</td>\n",
       "      <td>5502-bikalpa dawadi</td>\n",
       "    </tr>\n",
       "    <tr>\n",
       "      <th>4</th>\n",
       "      <td>BNE-BPE-5504-Chu Feng LEE</td>\n",
       "      <td>BNE-BPE</td>\n",
       "      <td>5504</td>\n",
       "      <td>chu feng lee</td>\n",
       "      <td>5504-chu feng lee</td>\n",
       "    </tr>\n",
       "  </tbody>\n",
       "</table>\n",
       "</div>"
      ],
      "text/plain": [
       "                                 account company_short account_id  \\\n",
       "0  BNE-BPE-5544-Dharmik Sureshbhai PATEL       BNE-BPE       5544   \n",
       "1          BNE-BPE-5500-Dipak BUDHATHOKI       BNE-BPE       5500   \n",
       "2            BNE-BPE-5501-BILAL MUHAMMAD       BNE-BPE       5501   \n",
       "3            BNE-BPE-5502-Bikalpa DAWADI       BNE-BPE       5502   \n",
       "4              BNE-BPE-5504-Chu Feng LEE       BNE-BPE       5504   \n",
       "\n",
       "               account_name                account_id_name  \n",
       "0  dharmik sureshbhai patel  5544-dharmik sureshbhai patel  \n",
       "1          dipak budhathoki          5500-dipak budhathoki  \n",
       "2            bilal muhammad            5501-bilal muhammad  \n",
       "3            bikalpa dawadi            5502-bikalpa dawadi  \n",
       "4              chu feng lee              5504-chu feng lee  "
      ]
     },
     "execution_count": 64,
     "metadata": {},
     "output_type": "execute_result"
    }
   ],
   "source": [
    "name_sheet.head()"
   ]
  },
  {
   "cell_type": "code",
   "execution_count": 82,
   "metadata": {},
   "outputs": [],
   "source": [
    "name_join_sheet = pd.merge(name_sheet, per_person_sum, left_on='account_name', right_on=\"account_name\", how='left', suffixes=('_obs', ''), sort=False)\n",
    "name_join_sheet.fillna(0, inplace=True)\n",
    "name_join_sheet['总数'] = name_join_sheet['总数'].astype(int) # 将总数列转换为整数\n",
    "# name_sheet = name_sheet.to_json(orient='records')\n",
    "# name_sheet = json.loads(name_sheet)"
   ]
  },
  {
   "cell_type": "code",
   "execution_count": 83,
   "metadata": {},
   "outputs": [
    {
     "data": {
      "text/plain": [
       "37395"
      ]
     },
     "execution_count": 83,
     "metadata": {},
     "output_type": "execute_result"
    }
   ],
   "source": [
    "name_join_sheet['总数'].sum()"
   ]
  },
  {
   "cell_type": "code",
   "execution_count": 84,
   "metadata": {},
   "outputs": [
    {
     "data": {
      "text/plain": [
       "91"
      ]
     },
     "execution_count": 84,
     "metadata": {},
     "output_type": "execute_result"
    }
   ],
   "source": [
    "len(name_join_sheet['account_name'].unique())\n"
   ]
  },
  {
   "cell_type": "code",
   "execution_count": 85,
   "metadata": {},
   "outputs": [
    {
     "data": {
      "text/html": [
       "<div>\n",
       "<style scoped>\n",
       "    .dataframe tbody tr th:only-of-type {\n",
       "        vertical-align: middle;\n",
       "    }\n",
       "\n",
       "    .dataframe tbody tr th {\n",
       "        vertical-align: top;\n",
       "    }\n",
       "\n",
       "    .dataframe thead th {\n",
       "        text-align: right;\n",
       "    }\n",
       "</style>\n",
       "<table border=\"1\" class=\"dataframe\">\n",
       "  <thead>\n",
       "    <tr style=\"text-align: right;\">\n",
       "      <th></th>\n",
       "      <th>account</th>\n",
       "      <th>company_short_obs</th>\n",
       "      <th>account_id_obs</th>\n",
       "      <th>account_name</th>\n",
       "      <th>account_id_name_obs</th>\n",
       "      <th>收派员\\nDriver</th>\n",
       "      <th>总数</th>\n",
       "      <th>company_short</th>\n",
       "      <th>account_id</th>\n",
       "      <th>account_id_name</th>\n",
       "    </tr>\n",
       "  </thead>\n",
       "  <tbody>\n",
       "    <tr>\n",
       "      <th>0</th>\n",
       "      <td>BNE-BPE-5544-Dharmik Sureshbhai PATEL</td>\n",
       "      <td>BNE-BPE</td>\n",
       "      <td>5544</td>\n",
       "      <td>dharmik sureshbhai patel</td>\n",
       "      <td>5544-dharmik sureshbhai patel</td>\n",
       "      <td>BNE-BPE-5544-Dharmik Sureshbhai PATEL</td>\n",
       "      <td>370</td>\n",
       "      <td>BNE-BPE</td>\n",
       "      <td>5544</td>\n",
       "      <td>5544-dharmik sureshbhai patel</td>\n",
       "    </tr>\n",
       "    <tr>\n",
       "      <th>1</th>\n",
       "      <td>BNE-BPE-5500-Dipak BUDHATHOKI</td>\n",
       "      <td>BNE-BPE</td>\n",
       "      <td>5500</td>\n",
       "      <td>dipak budhathoki</td>\n",
       "      <td>5500-dipak budhathoki</td>\n",
       "      <td>BNE-BPE-5500-Dipak BUDHATHOKI</td>\n",
       "      <td>733</td>\n",
       "      <td>BNE-BPE</td>\n",
       "      <td>5500</td>\n",
       "      <td>5500-dipak budhathoki</td>\n",
       "    </tr>\n",
       "    <tr>\n",
       "      <th>2</th>\n",
       "      <td>BNE-BPE-5501-BILAL MUHAMMAD</td>\n",
       "      <td>BNE-BPE</td>\n",
       "      <td>5501</td>\n",
       "      <td>bilal muhammad</td>\n",
       "      <td>5501-bilal muhammad</td>\n",
       "      <td>0</td>\n",
       "      <td>0</td>\n",
       "      <td>0</td>\n",
       "      <td>0</td>\n",
       "      <td>0</td>\n",
       "    </tr>\n",
       "    <tr>\n",
       "      <th>3</th>\n",
       "      <td>BNE-BPE-5502-Bikalpa DAWADI</td>\n",
       "      <td>BNE-BPE</td>\n",
       "      <td>5502</td>\n",
       "      <td>bikalpa dawadi</td>\n",
       "      <td>5502-bikalpa dawadi</td>\n",
       "      <td>BNE-BPE-5502-Bikalpa DAWADI</td>\n",
       "      <td>455</td>\n",
       "      <td>BNE-BPE</td>\n",
       "      <td>5502</td>\n",
       "      <td>5502-bikalpa dawadi</td>\n",
       "    </tr>\n",
       "    <tr>\n",
       "      <th>4</th>\n",
       "      <td>BNE-BPE-5504-Chu Feng LEE</td>\n",
       "      <td>BNE-BPE</td>\n",
       "      <td>5504</td>\n",
       "      <td>chu feng lee</td>\n",
       "      <td>5504-chu feng lee</td>\n",
       "      <td>BNE-BPE-5504-Chu Feng LEE</td>\n",
       "      <td>911</td>\n",
       "      <td>BNE-BPE</td>\n",
       "      <td>5504</td>\n",
       "      <td>5504-chu feng lee</td>\n",
       "    </tr>\n",
       "  </tbody>\n",
       "</table>\n",
       "</div>"
      ],
      "text/plain": [
       "                                 account company_short_obs account_id_obs  \\\n",
       "0  BNE-BPE-5544-Dharmik Sureshbhai PATEL           BNE-BPE           5544   \n",
       "1          BNE-BPE-5500-Dipak BUDHATHOKI           BNE-BPE           5500   \n",
       "2            BNE-BPE-5501-BILAL MUHAMMAD           BNE-BPE           5501   \n",
       "3            BNE-BPE-5502-Bikalpa DAWADI           BNE-BPE           5502   \n",
       "4              BNE-BPE-5504-Chu Feng LEE           BNE-BPE           5504   \n",
       "\n",
       "               account_name            account_id_name_obs  \\\n",
       "0  dharmik sureshbhai patel  5544-dharmik sureshbhai patel   \n",
       "1          dipak budhathoki          5500-dipak budhathoki   \n",
       "2            bilal muhammad            5501-bilal muhammad   \n",
       "3            bikalpa dawadi            5502-bikalpa dawadi   \n",
       "4              chu feng lee              5504-chu feng lee   \n",
       "\n",
       "                             收派员\\nDriver   总数 company_short account_id  \\\n",
       "0  BNE-BPE-5544-Dharmik Sureshbhai PATEL  370       BNE-BPE       5544   \n",
       "1          BNE-BPE-5500-Dipak BUDHATHOKI  733       BNE-BPE       5500   \n",
       "2                                      0    0             0          0   \n",
       "3            BNE-BPE-5502-Bikalpa DAWADI  455       BNE-BPE       5502   \n",
       "4              BNE-BPE-5504-Chu Feng LEE  911       BNE-BPE       5504   \n",
       "\n",
       "                 account_id_name  \n",
       "0  5544-dharmik sureshbhai patel  \n",
       "1          5500-dipak budhathoki  \n",
       "2                              0  \n",
       "3            5502-bikalpa dawadi  \n",
       "4              5504-chu feng lee  "
      ]
     },
     "execution_count": 85,
     "metadata": {},
     "output_type": "execute_result"
    }
   ],
   "source": [
    "name_join_sheet.head()"
   ]
  },
  {
   "cell_type": "code",
   "execution_count": 86,
   "metadata": {},
   "outputs": [
    {
     "data": {
      "text/plain": [
       "37395"
      ]
     },
     "execution_count": 86,
     "metadata": {},
     "output_type": "execute_result"
    }
   ],
   "source": [
    "per_person_sum['总数'].sum()"
   ]
  },
  {
   "cell_type": "code",
   "execution_count": 87,
   "metadata": {},
   "outputs": [
    {
     "name": "stdout",
     "output_type": "stream",
     "text": [
      "总数匹配: 37395 == 37395\n"
     ]
    }
   ],
   "source": [
    "if name_join_sheet['总数'].sum() != summary_sheet.sum()//2:\n",
    "    print(f\"总数不匹配: {name_join_sheet['总数'].sum()} != {summary_sheet.sum()//2}\")\n",
    "else:\n",
    "    print(f\"总数匹配: {name_join_sheet['总数'].sum()} == {summary_sheet.sum()//2}\")\n"
   ]
  },
  {
   "cell_type": "code",
   "execution_count": 88,
   "metadata": {},
   "outputs": [],
   "source": [
    "# import tkinter as tk\n",
    "# from tkinter import messagebox\n",
    "# import win32gui\n",
    "# import win32con\n",
    "\n",
    "# # 数据校验\n",
    "# total_deliveries = name_sheet['总数'].sum()\n",
    "# total_summary = summary_sheet.sum()//2\n",
    "\n",
    "# if total_deliveries != total_summary:\n",
    "#     # 创建弹窗\n",
    "#     root = tk.Tk()\n",
    "#     # root.withdraw()  # 隐藏主窗口\n",
    "    \n",
    "#     # 显示错误消息\n",
    "#     error_dialog = messagebox.showerror(\n",
    "#         \"数据校验错误\",\n",
    "#         f\"数据不匹配！\\n\\n\"\n",
    "#         f\"派送员总数: {total_deliveries}\\n\"\n",
    "#         f\"汇总表总数: {total_summary}\\n\"\n",
    "#         f\"差异数量: {abs(total_deliveries - total_summary)}\\n\\n\"\n",
    "#         f\"请检查以下可能的原因：\\n\"\n",
    "#         f\"1. 是否有派送员数据未正确统计\\n\"\n",
    "#         f\"2. 是否有重复计算的情况\\n\"\n",
    "#         f\"3. 是否有数据丢失\"\n",
    "#     )\n",
    "    \n",
    "#     # 获取错误对话框的句柄并设置为最顶层\n",
    "#     hwnd = win32gui.GetForegroundWindow()\n",
    "#     win32gui.SetWindowPos(hwnd, win32con.HWND_TOPMOST, 0, 0, 0, 0, \n",
    "#                          win32con.SWP_NOMOVE | win32con.SWP_NOSIZE)\n",
    "    \n",
    "#     # 询问是否继续\n",
    "#     confirm_dialog = messagebox.askyesno(\"确认\", \"是否继续处理？\")\n",
    "    \n",
    "#     # # 获取确认对话框的句柄并设置为最顶层\n",
    "#     # hwnd = win32gui.GetForegroundWindow()\n",
    "#     # win32gui.SetWindowPos(hwnd, win32con.HWND_TOPMOST, 0, 0, 0, 0, \n",
    "#     #                      win32con.SWP_NOMOVE | win32con.SWP_NOSIZE)\n",
    "    \n",
    "#     if not confirm_dialog:\n",
    "#         raise ValueError(\"用户取消处理\")\n",
    "    \n",
    "#     root.destroy()  # 关闭窗口\n",
    "# else:\n",
    "#     print(f\"✅ 数据校验通过！总数匹配: {total_deliveries} == {total_summary}\")"
   ]
  },
  {
   "cell_type": "code",
   "execution_count": 89,
   "metadata": {},
   "outputs": [],
   "source": [
    "# print(counts.to_json(force_ascii=False))\n",
    "# signed_time_key = None\n",
    "# receiver_key = None\n",
    "# fee_key = None\n",
    "raw_sheet[signed_time_key] = raw_sheet[signed_time_key].apply(lambda x: str(x)[:10])\n",
    "counts = raw_sheet.groupby([receiver_key, signed_time_key, fee_key]).size().reset_index(name='记录数')"
   ]
  },
  {
   "cell_type": "code",
   "execution_count": 90,
   "metadata": {},
   "outputs": [],
   "source": [
    "# 转换为嵌套 JSON\n",
    "nested_json = (\n",
    "    counts.reset_index()  # 将 MultiIndex 转为普通列\n",
    "    .groupby(receiver_key)  # 按收派员名字分组\n",
    "    .apply(lambda x: x.groupby(signed_time_key)  # 在组内按签收时间分组\n",
    "           .apply(lambda y: y.set_index(fee_key)['记录数'].to_dict())  # 将计费和对应数量转为字典\n",
    "           .to_dict())  # 将签收时间分组转为字典\n",
    "    .to_dict()  # 将收派员编号分组转为字典\n",
    ")"
   ]
  },
  {
   "cell_type": "code",
   "execution_count": 91,
   "metadata": {},
   "outputs": [],
   "source": [
    "name_join_sheet['data'] = name_join_sheet['account'].apply(lambda x: nested_json.get(x, {}))"
   ]
  },
  {
   "cell_type": "code",
   "execution_count": 92,
   "metadata": {},
   "outputs": [],
   "source": [
    "# columns = [\"序号\", \"编号\", \"ACCOUNT\"]\n",
    "columns = [\"序号\", \"ACCOUNT\"]\n",
    "sub_columns = [\"\"] * len(columns)\n",
    "# 定义表头\n",
    "for d in dates:\n",
    "    columns.append(d)\n",
    "    columns.extend([\"\"] * (len(fees) - 1))\n",
    "\n",
    "    sub_columns.extend(fees)\n",
    "\n",
    "columns.append(\"Total\")\n",
    "sub_columns.append(\"\")\n",
    "# 创建多级表头\n",
    "header = pd.MultiIndex.from_tuples(list(zip(columns, sub_columns)))"
   ]
  },
  {
   "cell_type": "code",
   "execution_count": 93,
   "metadata": {},
   "outputs": [
    {
     "data": {
      "text/html": [
       "<div>\n",
       "<style scoped>\n",
       "    .dataframe tbody tr th:only-of-type {\n",
       "        vertical-align: middle;\n",
       "    }\n",
       "\n",
       "    .dataframe tbody tr th {\n",
       "        vertical-align: top;\n",
       "    }\n",
       "\n",
       "    .dataframe thead th {\n",
       "        text-align: right;\n",
       "    }\n",
       "</style>\n",
       "<table border=\"1\" class=\"dataframe\">\n",
       "  <thead>\n",
       "    <tr style=\"text-align: right;\">\n",
       "      <th></th>\n",
       "      <th>account</th>\n",
       "      <th>company_short_obs</th>\n",
       "      <th>account_id_obs</th>\n",
       "      <th>account_name</th>\n",
       "      <th>account_id_name_obs</th>\n",
       "      <th>收派员\\nDriver</th>\n",
       "      <th>总数</th>\n",
       "      <th>company_short</th>\n",
       "      <th>account_id</th>\n",
       "      <th>account_id_name</th>\n",
       "      <th>data</th>\n",
       "    </tr>\n",
       "  </thead>\n",
       "  <tbody>\n",
       "    <tr>\n",
       "      <th>0</th>\n",
       "      <td>BNE-BPE-5544-Dharmik Sureshbhai PATEL</td>\n",
       "      <td>BNE-BPE</td>\n",
       "      <td>5544</td>\n",
       "      <td>dharmik sureshbhai patel</td>\n",
       "      <td>5544-dharmik sureshbhai patel</td>\n",
       "      <td>BNE-BPE-5544-Dharmik Sureshbhai PATEL</td>\n",
       "      <td>370</td>\n",
       "      <td>BNE-BPE</td>\n",
       "      <td>5544</td>\n",
       "      <td>5544-dharmik sureshbhai patel</td>\n",
       "      <td>{'2025-04-01': {2.2: 80}, '2025-04-05': {2.2: ...</td>\n",
       "    </tr>\n",
       "    <tr>\n",
       "      <th>1</th>\n",
       "      <td>BNE-BPE-5500-Dipak BUDHATHOKI</td>\n",
       "      <td>BNE-BPE</td>\n",
       "      <td>5500</td>\n",
       "      <td>dipak budhathoki</td>\n",
       "      <td>5500-dipak budhathoki</td>\n",
       "      <td>BNE-BPE-5500-Dipak BUDHATHOKI</td>\n",
       "      <td>733</td>\n",
       "      <td>BNE-BPE</td>\n",
       "      <td>5500</td>\n",
       "      <td>5500-dipak budhathoki</td>\n",
       "      <td>{'2025-03-31': {2.2: 28}, '2025-04-01': {2.2: ...</td>\n",
       "    </tr>\n",
       "    <tr>\n",
       "      <th>2</th>\n",
       "      <td>BNE-BPE-5501-BILAL MUHAMMAD</td>\n",
       "      <td>BNE-BPE</td>\n",
       "      <td>5501</td>\n",
       "      <td>bilal muhammad</td>\n",
       "      <td>5501-bilal muhammad</td>\n",
       "      <td>0</td>\n",
       "      <td>0</td>\n",
       "      <td>0</td>\n",
       "      <td>0</td>\n",
       "      <td>0</td>\n",
       "      <td>{}</td>\n",
       "    </tr>\n",
       "    <tr>\n",
       "      <th>3</th>\n",
       "      <td>BNE-BPE-5502-Bikalpa DAWADI</td>\n",
       "      <td>BNE-BPE</td>\n",
       "      <td>5502</td>\n",
       "      <td>bikalpa dawadi</td>\n",
       "      <td>5502-bikalpa dawadi</td>\n",
       "      <td>BNE-BPE-5502-Bikalpa DAWADI</td>\n",
       "      <td>455</td>\n",
       "      <td>BNE-BPE</td>\n",
       "      <td>5502</td>\n",
       "      <td>5502-bikalpa dawadi</td>\n",
       "      <td>{'2025-04-03': {2.2: 147}, '2025-04-04': {2.2:...</td>\n",
       "    </tr>\n",
       "    <tr>\n",
       "      <th>4</th>\n",
       "      <td>BNE-BPE-5504-Chu Feng LEE</td>\n",
       "      <td>BNE-BPE</td>\n",
       "      <td>5504</td>\n",
       "      <td>chu feng lee</td>\n",
       "      <td>5504-chu feng lee</td>\n",
       "      <td>BNE-BPE-5504-Chu Feng LEE</td>\n",
       "      <td>911</td>\n",
       "      <td>BNE-BPE</td>\n",
       "      <td>5504</td>\n",
       "      <td>5504-chu feng lee</td>\n",
       "      <td>{'2025-03-31': {2.2: 130}, '2025-04-01': {2.2:...</td>\n",
       "    </tr>\n",
       "  </tbody>\n",
       "</table>\n",
       "</div>"
      ],
      "text/plain": [
       "                                 account company_short_obs account_id_obs  \\\n",
       "0  BNE-BPE-5544-Dharmik Sureshbhai PATEL           BNE-BPE           5544   \n",
       "1          BNE-BPE-5500-Dipak BUDHATHOKI           BNE-BPE           5500   \n",
       "2            BNE-BPE-5501-BILAL MUHAMMAD           BNE-BPE           5501   \n",
       "3            BNE-BPE-5502-Bikalpa DAWADI           BNE-BPE           5502   \n",
       "4              BNE-BPE-5504-Chu Feng LEE           BNE-BPE           5504   \n",
       "\n",
       "               account_name            account_id_name_obs  \\\n",
       "0  dharmik sureshbhai patel  5544-dharmik sureshbhai patel   \n",
       "1          dipak budhathoki          5500-dipak budhathoki   \n",
       "2            bilal muhammad            5501-bilal muhammad   \n",
       "3            bikalpa dawadi            5502-bikalpa dawadi   \n",
       "4              chu feng lee              5504-chu feng lee   \n",
       "\n",
       "                             收派员\\nDriver   总数 company_short account_id  \\\n",
       "0  BNE-BPE-5544-Dharmik Sureshbhai PATEL  370       BNE-BPE       5544   \n",
       "1          BNE-BPE-5500-Dipak BUDHATHOKI  733       BNE-BPE       5500   \n",
       "2                                      0    0             0          0   \n",
       "3            BNE-BPE-5502-Bikalpa DAWADI  455       BNE-BPE       5502   \n",
       "4              BNE-BPE-5504-Chu Feng LEE  911       BNE-BPE       5504   \n",
       "\n",
       "                 account_id_name  \\\n",
       "0  5544-dharmik sureshbhai patel   \n",
       "1          5500-dipak budhathoki   \n",
       "2                              0   \n",
       "3            5502-bikalpa dawadi   \n",
       "4              5504-chu feng lee   \n",
       "\n",
       "                                                data  \n",
       "0  {'2025-04-01': {2.2: 80}, '2025-04-05': {2.2: ...  \n",
       "1  {'2025-03-31': {2.2: 28}, '2025-04-01': {2.2: ...  \n",
       "2                                                 {}  \n",
       "3  {'2025-04-03': {2.2: 147}, '2025-04-04': {2.2:...  \n",
       "4  {'2025-03-31': {2.2: 130}, '2025-04-01': {2.2:...  "
      ]
     },
     "execution_count": 93,
     "metadata": {},
     "output_type": "execute_result"
    }
   ],
   "source": [
    "name_join_sheet.head()"
   ]
  },
  {
   "cell_type": "code",
   "execution_count": 94,
   "metadata": {},
   "outputs": [],
   "source": [
    "full_data = []\n",
    "\n",
    "for idx, person in name_join_sheet.iterrows():\n",
    "    data = [idx+1, person['account']]\n",
    "    for d in dates:\n",
    "        if d in person['data']:\n",
    "            for f in fees:\n",
    "                if f in person['data'][d]:\n",
    "                    data.append(person['data'][d].get(f, \"\"))\n",
    "                else:\n",
    "                    data.append(\"\")\n",
    "        else:\n",
    "            data.extend([\"\"] * len(fees))\n",
    "    data.append(person['总数'])\n",
    "    full_data.append(data)"
   ]
  },
  {
   "cell_type": "code",
   "execution_count": 95,
   "metadata": {},
   "outputs": [],
   "source": [
    "# 添加汇总行\n",
    "total_row = [\"Total\", \"总计\"]\n",
    "total_by_date_fee = {}  # 用于存储每个日期和费用类型的总和\n",
    "\n",
    "# 初始化汇总数据结构\n",
    "for d in dates:\n",
    "    total_by_date_fee[d] = {f: 0 for f in fees}\n",
    "\n",
    "# 计算每个日期和费用类型的总和\n",
    "for person in name_join_sheet.itertuples():\n",
    "    for d in dates:\n",
    "        if hasattr(person, 'data') and d in person.data:\n",
    "            for f in fees:\n",
    "                if f in person.data[d]:\n",
    "                    total_by_date_fee[d][f] += person.data[d][f]\n",
    "\n",
    "# 构建汇总行数据\n",
    "for d in dates:\n",
    "    for f in fees:\n",
    "        total_row.append(total_by_date_fee[d][f])\n",
    "\n",
    "# 添加总计数量\n",
    "total_row.append(name_join_sheet['总数'].sum())\n",
    "\n",
    "# 将汇总行添加到full_data\n",
    "full_data.append(total_row)"
   ]
  },
  {
   "cell_type": "code",
   "execution_count": 96,
   "metadata": {},
   "outputs": [],
   "source": [
    "# 创建 DataFrame\n",
    "df = pd.DataFrame(full_data, columns=header)"
   ]
  },
  {
   "cell_type": "code",
   "execution_count": 97,
   "metadata": {},
   "outputs": [
    {
     "name": "stdout",
     "output_type": "stream",
     "text": [
      "文件已保存至 output\\BNE\\2025-03-31_2025-04-06/per_person_details.xlsx\n"
     ]
    }
   ],
   "source": [
    "from openpyxl import load_workbook\n",
    "\n",
    "df.to_excel(f\"{project_cache_path}/output.xlsx\", index=True)\n",
    "# 加载并移除空行\n",
    "wb = load_workbook(f\"{project_cache_path}/output.xlsx\")\n",
    "ws = wb.active\n",
    "\n",
    "# 删除空行（通常是第3行）\n",
    "ws.delete_rows(3)\n",
    "# ws.delete_cols(0)\n",
    "\n",
    "# 保存调整后的文件\n",
    "wb.save(f\"{project_path}/per_person_details.xlsx\")\n",
    "print(f\"文件已保存至 {project_path}/per_person_details.xlsx\")\n",
    "wb.close()"
   ]
  }
 ],
 "metadata": {
  "kernelspec": {
   "display_name": "py311",
   "language": "python",
   "name": "python3"
  },
  "language_info": {
   "codemirror_mode": {
    "name": "ipython",
    "version": 3
   },
   "file_extension": ".py",
   "mimetype": "text/x-python",
   "name": "python",
   "nbconvert_exporter": "python",
   "pygments_lexer": "ipython3",
   "version": "3.11.8"
  }
 },
 "nbformat": 4,
 "nbformat_minor": 2
}
